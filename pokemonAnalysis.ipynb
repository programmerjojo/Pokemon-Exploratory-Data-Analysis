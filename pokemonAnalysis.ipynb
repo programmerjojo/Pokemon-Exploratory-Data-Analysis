{
 "cells": [
  {
   "cell_type": "markdown",
   "id": "0159bcfe-e31d-479a-a937-28851b3e3fb8",
   "metadata": {
    "tags": []
   },
   "source": [
    "# **Pokemon Data Analysis**\n",
    "---"
   ]
  },
  {
   "cell_type": "markdown",
   "id": "d544c444-6a7a-486c-8bf2-0c8486902b35",
   "metadata": {
    "tags": []
   },
   "source": [
    "## **Introduction**\n",
    "I have found a dataset on one of my favorite childhood interests... Pokemon! I will be doing a data analysis on the 802 Pokemon from the first 7 generations. "
   ]
  },
  {
   "cell_type": "code",
   "execution_count": 53,
   "id": "e26d3ddd-b819-4c05-b29e-273107d22f4c",
   "metadata": {},
   "outputs": [],
   "source": [
    "# importing all needed libraries\n",
    "import numpy as np\n",
    "import pandas as pd\n",
    "import matplotlib.pyplot as plt\n",
    "import seaborn as sns\n",
    "import sqlite3"
   ]
  },
  {
   "cell_type": "markdown",
   "id": "2633cb0e-c777-4e03-9b8d-46354389381c",
   "metadata": {
    "tags": []
   },
   "source": [
    "---"
   ]
  },
  {
   "cell_type": "markdown",
   "id": "c66c1570-ce51-436e-8e32-a3fd091c39f0",
   "metadata": {
    "tags": []
   },
   "source": [
    "## **Data**"
   ]
  },
  {
   "cell_type": "markdown",
   "id": "ce13705b-c515-488b-92bd-44ac39a830ca",
   "metadata": {
    "tags": []
   },
   "source": [
    "### **Source**\n",
    "I downloaded this data from [kaggle.com](https://www.kaggle.com/datasets/rounakbanik/pokemon) where thousands of datasets can be found."
   ]
  },
  {
   "cell_type": "code",
   "execution_count": 54,
   "id": "0e7e93e4-1d7e-4b5b-ab7f-8337d7e7dd4c",
   "metadata": {},
   "outputs": [],
   "source": [
    "# read CSV file into a DataFrame\n",
    "pokemon = pd.read_csv('pokemon.csv')"
   ]
  },
  {
   "cell_type": "markdown",
   "id": "e3b820c6-a8c9-4637-af64-9bec1ca93aba",
   "metadata": {
    "tags": []
   },
   "source": [
    "### **Variables**\n",
    "* **abilities:** abilities somewhat unique to the pokemon\n",
    "* **against_type(18):** damage to Pokemon from an attack of each type\n",
    "* **attack:** (STAT1) 1/6 of the Pokemon's main stats\n",
    "* **base_egg_steps:** how many steps it takes to hatch the Pokemon\n",
    "* **base_happiness:** how happy the Pokemon is (max 100)\n",
    "* **base_total:** (STAT_TOTAL) Summary of Pokemon's 6 main stats\n",
    "* **capture_rate:** chance of catching the Pokemon (max 255) \n",
    "* **classfication:** Pokemon's classification type (similar to a nickname)\n",
    "* **defense:** (STAT2) 1/6 of the Pokemon's main stats\n",
    "* **experience_growth:** Pokemon's experience growth\n",
    "* **height_m:** Pokemon's height\n",
    "* **hp:** (STAT3) 1/6 of the Pokemon's main stats\n",
    "* **jappanese_name:** Pokemon's original Japanesse name\n",
    "* **name:** Pokemon's English name\n",
    "* **percentage_male:** Percentage of this Pokemon that is Male\n",
    "* **pokedex_number:** identification number in Pokemon's main index\n",
    "* **sp_attack:** (STAT4) 1/6 of the Pokemon's main stats\n",
    "* **sp_defense:** (STAT5) 1/6 of the Pokemon's main stats\n",
    "* **speed:** (STAT6) 1/6 of the Pokemon's main stats\n",
    "* **type1:** Pokemon's primary type\n",
    "* **type2:** Pokemon's secondary type\n",
    "* **weight_kg:** Pokemon's weight\n",
    "* **generation:** what generation the Pokemon belongs too (1-7)\n",
    "* **is_legendary:** 0=Pokemon is not legendary, 1=Pokemon is legendary"
   ]
  },
  {
   "cell_type": "code",
   "execution_count": 55,
   "id": "5e05749c-7cf7-41de-a5c7-c5c7a2c0ff96",
   "metadata": {},
   "outputs": [
    {
     "data": {
      "text/html": [
       "<div>\n",
       "<style scoped>\n",
       "    .dataframe tbody tr th:only-of-type {\n",
       "        vertical-align: middle;\n",
       "    }\n",
       "\n",
       "    .dataframe tbody tr th {\n",
       "        vertical-align: top;\n",
       "    }\n",
       "\n",
       "    .dataframe thead th {\n",
       "        text-align: right;\n",
       "    }\n",
       "</style>\n",
       "<table border=\"1\" class=\"dataframe\">\n",
       "  <thead>\n",
       "    <tr style=\"text-align: right;\">\n",
       "      <th></th>\n",
       "      <th>abilities</th>\n",
       "      <th>against_bug</th>\n",
       "      <th>against_dark</th>\n",
       "      <th>against_dragon</th>\n",
       "      <th>against_electric</th>\n",
       "      <th>against_fairy</th>\n",
       "      <th>against_fight</th>\n",
       "      <th>against_fire</th>\n",
       "      <th>against_flying</th>\n",
       "      <th>against_ghost</th>\n",
       "      <th>...</th>\n",
       "      <th>percentage_male</th>\n",
       "      <th>pokedex_number</th>\n",
       "      <th>sp_attack</th>\n",
       "      <th>sp_defense</th>\n",
       "      <th>speed</th>\n",
       "      <th>type1</th>\n",
       "      <th>type2</th>\n",
       "      <th>weight_kg</th>\n",
       "      <th>generation</th>\n",
       "      <th>is_legendary</th>\n",
       "    </tr>\n",
       "  </thead>\n",
       "  <tbody>\n",
       "    <tr>\n",
       "      <th>0</th>\n",
       "      <td>['Overgrow', 'Chlorophyll']</td>\n",
       "      <td>1.00</td>\n",
       "      <td>1.0</td>\n",
       "      <td>1.0</td>\n",
       "      <td>0.5</td>\n",
       "      <td>0.5</td>\n",
       "      <td>0.5</td>\n",
       "      <td>2.0</td>\n",
       "      <td>2.0</td>\n",
       "      <td>1.0</td>\n",
       "      <td>...</td>\n",
       "      <td>88.1</td>\n",
       "      <td>1</td>\n",
       "      <td>65</td>\n",
       "      <td>65</td>\n",
       "      <td>45</td>\n",
       "      <td>grass</td>\n",
       "      <td>poison</td>\n",
       "      <td>6.9</td>\n",
       "      <td>1</td>\n",
       "      <td>0</td>\n",
       "    </tr>\n",
       "    <tr>\n",
       "      <th>1</th>\n",
       "      <td>['Overgrow', 'Chlorophyll']</td>\n",
       "      <td>1.00</td>\n",
       "      <td>1.0</td>\n",
       "      <td>1.0</td>\n",
       "      <td>0.5</td>\n",
       "      <td>0.5</td>\n",
       "      <td>0.5</td>\n",
       "      <td>2.0</td>\n",
       "      <td>2.0</td>\n",
       "      <td>1.0</td>\n",
       "      <td>...</td>\n",
       "      <td>88.1</td>\n",
       "      <td>2</td>\n",
       "      <td>80</td>\n",
       "      <td>80</td>\n",
       "      <td>60</td>\n",
       "      <td>grass</td>\n",
       "      <td>poison</td>\n",
       "      <td>13.0</td>\n",
       "      <td>1</td>\n",
       "      <td>0</td>\n",
       "    </tr>\n",
       "    <tr>\n",
       "      <th>2</th>\n",
       "      <td>['Overgrow', 'Chlorophyll']</td>\n",
       "      <td>1.00</td>\n",
       "      <td>1.0</td>\n",
       "      <td>1.0</td>\n",
       "      <td>0.5</td>\n",
       "      <td>0.5</td>\n",
       "      <td>0.5</td>\n",
       "      <td>2.0</td>\n",
       "      <td>2.0</td>\n",
       "      <td>1.0</td>\n",
       "      <td>...</td>\n",
       "      <td>88.1</td>\n",
       "      <td>3</td>\n",
       "      <td>122</td>\n",
       "      <td>120</td>\n",
       "      <td>80</td>\n",
       "      <td>grass</td>\n",
       "      <td>poison</td>\n",
       "      <td>100.0</td>\n",
       "      <td>1</td>\n",
       "      <td>0</td>\n",
       "    </tr>\n",
       "    <tr>\n",
       "      <th>3</th>\n",
       "      <td>['Blaze', 'Solar Power']</td>\n",
       "      <td>0.50</td>\n",
       "      <td>1.0</td>\n",
       "      <td>1.0</td>\n",
       "      <td>1.0</td>\n",
       "      <td>0.5</td>\n",
       "      <td>1.0</td>\n",
       "      <td>0.5</td>\n",
       "      <td>1.0</td>\n",
       "      <td>1.0</td>\n",
       "      <td>...</td>\n",
       "      <td>88.1</td>\n",
       "      <td>4</td>\n",
       "      <td>60</td>\n",
       "      <td>50</td>\n",
       "      <td>65</td>\n",
       "      <td>fire</td>\n",
       "      <td>NaN</td>\n",
       "      <td>8.5</td>\n",
       "      <td>1</td>\n",
       "      <td>0</td>\n",
       "    </tr>\n",
       "    <tr>\n",
       "      <th>4</th>\n",
       "      <td>['Blaze', 'Solar Power']</td>\n",
       "      <td>0.50</td>\n",
       "      <td>1.0</td>\n",
       "      <td>1.0</td>\n",
       "      <td>1.0</td>\n",
       "      <td>0.5</td>\n",
       "      <td>1.0</td>\n",
       "      <td>0.5</td>\n",
       "      <td>1.0</td>\n",
       "      <td>1.0</td>\n",
       "      <td>...</td>\n",
       "      <td>88.1</td>\n",
       "      <td>5</td>\n",
       "      <td>80</td>\n",
       "      <td>65</td>\n",
       "      <td>80</td>\n",
       "      <td>fire</td>\n",
       "      <td>NaN</td>\n",
       "      <td>19.0</td>\n",
       "      <td>1</td>\n",
       "      <td>0</td>\n",
       "    </tr>\n",
       "    <tr>\n",
       "      <th>...</th>\n",
       "      <td>...</td>\n",
       "      <td>...</td>\n",
       "      <td>...</td>\n",
       "      <td>...</td>\n",
       "      <td>...</td>\n",
       "      <td>...</td>\n",
       "      <td>...</td>\n",
       "      <td>...</td>\n",
       "      <td>...</td>\n",
       "      <td>...</td>\n",
       "      <td>...</td>\n",
       "      <td>...</td>\n",
       "      <td>...</td>\n",
       "      <td>...</td>\n",
       "      <td>...</td>\n",
       "      <td>...</td>\n",
       "      <td>...</td>\n",
       "      <td>...</td>\n",
       "      <td>...</td>\n",
       "      <td>...</td>\n",
       "      <td>...</td>\n",
       "    </tr>\n",
       "    <tr>\n",
       "      <th>796</th>\n",
       "      <td>['Beast Boost']</td>\n",
       "      <td>0.25</td>\n",
       "      <td>1.0</td>\n",
       "      <td>0.5</td>\n",
       "      <td>2.0</td>\n",
       "      <td>0.5</td>\n",
       "      <td>1.0</td>\n",
       "      <td>2.0</td>\n",
       "      <td>0.5</td>\n",
       "      <td>1.0</td>\n",
       "      <td>...</td>\n",
       "      <td>NaN</td>\n",
       "      <td>797</td>\n",
       "      <td>107</td>\n",
       "      <td>101</td>\n",
       "      <td>61</td>\n",
       "      <td>steel</td>\n",
       "      <td>flying</td>\n",
       "      <td>999.9</td>\n",
       "      <td>7</td>\n",
       "      <td>1</td>\n",
       "    </tr>\n",
       "    <tr>\n",
       "      <th>797</th>\n",
       "      <td>['Beast Boost']</td>\n",
       "      <td>1.00</td>\n",
       "      <td>1.0</td>\n",
       "      <td>0.5</td>\n",
       "      <td>0.5</td>\n",
       "      <td>0.5</td>\n",
       "      <td>2.0</td>\n",
       "      <td>4.0</td>\n",
       "      <td>1.0</td>\n",
       "      <td>1.0</td>\n",
       "      <td>...</td>\n",
       "      <td>NaN</td>\n",
       "      <td>798</td>\n",
       "      <td>59</td>\n",
       "      <td>31</td>\n",
       "      <td>109</td>\n",
       "      <td>grass</td>\n",
       "      <td>steel</td>\n",
       "      <td>0.1</td>\n",
       "      <td>7</td>\n",
       "      <td>1</td>\n",
       "    </tr>\n",
       "    <tr>\n",
       "      <th>798</th>\n",
       "      <td>['Beast Boost']</td>\n",
       "      <td>2.00</td>\n",
       "      <td>0.5</td>\n",
       "      <td>2.0</td>\n",
       "      <td>0.5</td>\n",
       "      <td>4.0</td>\n",
       "      <td>2.0</td>\n",
       "      <td>0.5</td>\n",
       "      <td>1.0</td>\n",
       "      <td>0.5</td>\n",
       "      <td>...</td>\n",
       "      <td>NaN</td>\n",
       "      <td>799</td>\n",
       "      <td>97</td>\n",
       "      <td>53</td>\n",
       "      <td>43</td>\n",
       "      <td>dark</td>\n",
       "      <td>dragon</td>\n",
       "      <td>888.0</td>\n",
       "      <td>7</td>\n",
       "      <td>1</td>\n",
       "    </tr>\n",
       "    <tr>\n",
       "      <th>799</th>\n",
       "      <td>['Prism Armor']</td>\n",
       "      <td>2.00</td>\n",
       "      <td>2.0</td>\n",
       "      <td>1.0</td>\n",
       "      <td>1.0</td>\n",
       "      <td>1.0</td>\n",
       "      <td>0.5</td>\n",
       "      <td>1.0</td>\n",
       "      <td>1.0</td>\n",
       "      <td>2.0</td>\n",
       "      <td>...</td>\n",
       "      <td>NaN</td>\n",
       "      <td>800</td>\n",
       "      <td>127</td>\n",
       "      <td>89</td>\n",
       "      <td>79</td>\n",
       "      <td>psychic</td>\n",
       "      <td>NaN</td>\n",
       "      <td>230.0</td>\n",
       "      <td>7</td>\n",
       "      <td>1</td>\n",
       "    </tr>\n",
       "    <tr>\n",
       "      <th>800</th>\n",
       "      <td>['Soul-Heart']</td>\n",
       "      <td>0.25</td>\n",
       "      <td>0.5</td>\n",
       "      <td>0.0</td>\n",
       "      <td>1.0</td>\n",
       "      <td>0.5</td>\n",
       "      <td>1.0</td>\n",
       "      <td>2.0</td>\n",
       "      <td>0.5</td>\n",
       "      <td>1.0</td>\n",
       "      <td>...</td>\n",
       "      <td>NaN</td>\n",
       "      <td>801</td>\n",
       "      <td>130</td>\n",
       "      <td>115</td>\n",
       "      <td>65</td>\n",
       "      <td>steel</td>\n",
       "      <td>fairy</td>\n",
       "      <td>80.5</td>\n",
       "      <td>7</td>\n",
       "      <td>1</td>\n",
       "    </tr>\n",
       "  </tbody>\n",
       "</table>\n",
       "<p>801 rows × 41 columns</p>\n",
       "</div>"
      ],
      "text/plain": [
       "                       abilities  against_bug  against_dark  against_dragon  \\\n",
       "0    ['Overgrow', 'Chlorophyll']         1.00           1.0             1.0   \n",
       "1    ['Overgrow', 'Chlorophyll']         1.00           1.0             1.0   \n",
       "2    ['Overgrow', 'Chlorophyll']         1.00           1.0             1.0   \n",
       "3       ['Blaze', 'Solar Power']         0.50           1.0             1.0   \n",
       "4       ['Blaze', 'Solar Power']         0.50           1.0             1.0   \n",
       "..                           ...          ...           ...             ...   \n",
       "796              ['Beast Boost']         0.25           1.0             0.5   \n",
       "797              ['Beast Boost']         1.00           1.0             0.5   \n",
       "798              ['Beast Boost']         2.00           0.5             2.0   \n",
       "799              ['Prism Armor']         2.00           2.0             1.0   \n",
       "800               ['Soul-Heart']         0.25           0.5             0.0   \n",
       "\n",
       "     against_electric  against_fairy  against_fight  against_fire  \\\n",
       "0                 0.5            0.5            0.5           2.0   \n",
       "1                 0.5            0.5            0.5           2.0   \n",
       "2                 0.5            0.5            0.5           2.0   \n",
       "3                 1.0            0.5            1.0           0.5   \n",
       "4                 1.0            0.5            1.0           0.5   \n",
       "..                ...            ...            ...           ...   \n",
       "796               2.0            0.5            1.0           2.0   \n",
       "797               0.5            0.5            2.0           4.0   \n",
       "798               0.5            4.0            2.0           0.5   \n",
       "799               1.0            1.0            0.5           1.0   \n",
       "800               1.0            0.5            1.0           2.0   \n",
       "\n",
       "     against_flying  against_ghost  ...  percentage_male  pokedex_number  \\\n",
       "0               2.0            1.0  ...             88.1               1   \n",
       "1               2.0            1.0  ...             88.1               2   \n",
       "2               2.0            1.0  ...             88.1               3   \n",
       "3               1.0            1.0  ...             88.1               4   \n",
       "4               1.0            1.0  ...             88.1               5   \n",
       "..              ...            ...  ...              ...             ...   \n",
       "796             0.5            1.0  ...              NaN             797   \n",
       "797             1.0            1.0  ...              NaN             798   \n",
       "798             1.0            0.5  ...              NaN             799   \n",
       "799             1.0            2.0  ...              NaN             800   \n",
       "800             0.5            1.0  ...              NaN             801   \n",
       "\n",
       "     sp_attack  sp_defense  speed    type1   type2  weight_kg  generation  \\\n",
       "0           65          65     45    grass  poison        6.9           1   \n",
       "1           80          80     60    grass  poison       13.0           1   \n",
       "2          122         120     80    grass  poison      100.0           1   \n",
       "3           60          50     65     fire     NaN        8.5           1   \n",
       "4           80          65     80     fire     NaN       19.0           1   \n",
       "..         ...         ...    ...      ...     ...        ...         ...   \n",
       "796        107         101     61    steel  flying      999.9           7   \n",
       "797         59          31    109    grass   steel        0.1           7   \n",
       "798         97          53     43     dark  dragon      888.0           7   \n",
       "799        127          89     79  psychic     NaN      230.0           7   \n",
       "800        130         115     65    steel   fairy       80.5           7   \n",
       "\n",
       "     is_legendary  \n",
       "0               0  \n",
       "1               0  \n",
       "2               0  \n",
       "3               0  \n",
       "4               0  \n",
       "..            ...  \n",
       "796             1  \n",
       "797             1  \n",
       "798             1  \n",
       "799             1  \n",
       "800             1  \n",
       "\n",
       "[801 rows x 41 columns]"
      ]
     },
     "execution_count": 55,
     "metadata": {},
     "output_type": "execute_result"
    }
   ],
   "source": [
    "# showing preview of database\n",
    "pokemon"
   ]
  },
  {
   "cell_type": "markdown",
   "id": "94148850-1f8a-48e3-98a8-d60dad4c3487",
   "metadata": {
    "tags": []
   },
   "source": [
    "---"
   ]
  },
  {
   "cell_type": "markdown",
   "id": "1128324b-7e45-4f0a-95a7-6da358ca6174",
   "metadata": {
    "tags": []
   },
   "source": [
    "## **Data Cleaning**"
   ]
  },
  {
   "cell_type": "markdown",
   "id": "3c2d23de-a4bb-4f0d-ba97-10a21807cb0d",
   "metadata": {
    "tags": []
   },
   "source": [
    "**1. Deleting Columns not required for this analysis or interesting.**\n",
    "   * experience_growth\n",
    "   * classfication\n",
    "   * japanese_name"
   ]
  },
  {
   "cell_type": "code",
   "execution_count": 56,
   "id": "b6c01fe1-76bc-43e9-9d1c-956c1db34960",
   "metadata": {
    "tags": []
   },
   "outputs": [],
   "source": [
    "# deleting unecessary columns\n",
    "pokemon.drop(columns=['experience_growth', 'classfication', 'japanese_name'], inplace=True)"
   ]
  },
  {
   "cell_type": "markdown",
   "id": "aa134b15-2721-447d-bb1a-4c3fe6d4f2ac",
   "metadata": {},
   "source": [
    " <br>"
   ]
  },
  {
   "cell_type": "markdown",
   "id": "356c53c1-6899-4c98-b967-355f59c4b62c",
   "metadata": {
    "tags": []
   },
   "source": [
    "**2. Female column needed!**"
   ]
  },
  {
   "cell_type": "code",
   "execution_count": 57,
   "id": "160019cf-c59f-4a17-9a76-6491274fbaa0",
   "metadata": {
    "tags": []
   },
   "outputs": [],
   "source": [
    "# creating a female column\n",
    "pokemon['percentage_female'] = 100-pokemon['percentage_male']"
   ]
  },
  {
   "cell_type": "markdown",
   "id": "6c4f7ac0-ad53-427f-a174-0a3181c83d5e",
   "metadata": {},
   "source": [
    " <br>"
   ]
  },
  {
   "cell_type": "markdown",
   "id": "676322db-a95a-4b29-92ee-b1754bbda41e",
   "metadata": {
    "tags": []
   },
   "source": [
    "**3. Arranging Column's correctly**\n",
    "   * Pokedex number should be database's index\n",
    "   * Named column's should be the first\n",
    "   * Main stats columned are not organized in the right order"
   ]
  },
  {
   "cell_type": "code",
   "execution_count": 58,
   "id": "d9d4ace6-e4a7-4e5e-aeb6-9540d65ead5f",
   "metadata": {
    "tags": []
   },
   "outputs": [],
   "source": [
    "# rearranging all column's in a nice order\n",
    "pokemon = pokemon[['pokedex_number', 'generation', 'name', 'type1', 'type2', 'base_total','hp', 'attack', 'defense', 'sp_attack', 'sp_defense', 'speed', 'abilities', 'height_m', 'weight_kg', 'percentage_male', 'percentage_female', 'base_happiness', 'capture_rate', 'base_egg_steps', 'is_legendary', 'against_bug', 'against_dark', 'against_dragon', 'against_electric', 'against_fairy', 'against_fight', 'against_fire', 'against_flying', 'against_ghost', 'against_grass', 'against_ground', 'against_ice', 'against_normal', 'against_poison', 'against_psychic', 'against_rock', 'against_steel', 'against_water']]\n",
    "\n",
    "# making pokedex_number index\n",
    "pokemon = pokemon.set_index('pokedex_number')"
   ]
  },
  {
   "cell_type": "markdown",
   "id": "e353ccde-66f8-4ffc-b8a7-eae147a74cce",
   "metadata": {},
   "source": [
    " <br>"
   ]
  },
  {
   "cell_type": "markdown",
   "id": "aaff3337-060a-4084-8fce-36970e370eff",
   "metadata": {
    "tags": []
   },
   "source": [
    "**4. DataTypes...**"
   ]
  },
  {
   "cell_type": "code",
   "execution_count": 59,
   "id": "dbeb161a-8696-4154-afbf-2124d28e6921",
   "metadata": {
    "tags": []
   },
   "outputs": [
    {
     "data": {
      "text/plain": [
       "generation             int64\n",
       "name                  object\n",
       "type1                 object\n",
       "type2                 object\n",
       "base_total             int64\n",
       "hp                     int64\n",
       "attack                 int64\n",
       "defense                int64\n",
       "sp_attack              int64\n",
       "sp_defense             int64\n",
       "speed                  int64\n",
       "abilities             object\n",
       "height_m             float64\n",
       "weight_kg            float64\n",
       "percentage_male      float64\n",
       "percentage_female    float64\n",
       "base_happiness         int64\n",
       "capture_rate          object\n",
       "base_egg_steps         int64\n",
       "is_legendary           int64\n",
       "against_bug          float64\n",
       "against_dark         float64\n",
       "against_dragon       float64\n",
       "against_electric     float64\n",
       "against_fairy        float64\n",
       "against_fight        float64\n",
       "against_fire         float64\n",
       "against_flying       float64\n",
       "against_ghost        float64\n",
       "against_grass        float64\n",
       "against_ground       float64\n",
       "against_ice          float64\n",
       "against_normal       float64\n",
       "against_poison       float64\n",
       "against_psychic      float64\n",
       "against_rock         float64\n",
       "against_steel        float64\n",
       "against_water        float64\n",
       "dtype: object"
      ]
     },
     "execution_count": 59,
     "metadata": {},
     "output_type": "execute_result"
    }
   ],
   "source": [
    "# showing all column's DataTypes\n",
    "pokemon.dtypes"
   ]
  },
  {
   "cell_type": "markdown",
   "id": "ffbc7b6c-e2d7-4405-acc4-bfd3a3a66f0d",
   "metadata": {},
   "source": [
    "* **capture_rate** should be an int ranging from 1-255 but it is listed as an object which means that there must be a string in the data"
   ]
  },
  {
   "cell_type": "code",
   "execution_count": 60,
   "id": "1596b355-850a-4eee-882c-83ee7b52827c",
   "metadata": {
    "tags": []
   },
   "outputs": [
    {
     "data": {
      "text/plain": [
       "array(['45', '255', '120', '127', '90', '190', '75', '235', '150', '25',\n",
       "       '170', '50', '200', '100', '180', '60', '225', '30', '35', '3',\n",
       "       '65', '70', '125', '205', '155', '145', '130', '140', '15', '220',\n",
       "       '160', '80', '55', '30 (Meteorite)255 (Core)'], dtype=object)"
      ]
     },
     "execution_count": 60,
     "metadata": {},
     "output_type": "execute_result"
    }
   ],
   "source": [
    "# scope out any outliers\n",
    "pokemon['capture_rate'].unique()"
   ]
  },
  {
   "cell_type": "code",
   "execution_count": 61,
   "id": "bffdaf36-06fd-45c3-a458-904b40c01610",
   "metadata": {
    "tags": []
   },
   "outputs": [
    {
     "data": {
      "text/html": [
       "<div>\n",
       "<style scoped>\n",
       "    .dataframe tbody tr th:only-of-type {\n",
       "        vertical-align: middle;\n",
       "    }\n",
       "\n",
       "    .dataframe tbody tr th {\n",
       "        vertical-align: top;\n",
       "    }\n",
       "\n",
       "    .dataframe thead th {\n",
       "        text-align: right;\n",
       "    }\n",
       "</style>\n",
       "<table border=\"1\" class=\"dataframe\">\n",
       "  <thead>\n",
       "    <tr style=\"text-align: right;\">\n",
       "      <th></th>\n",
       "      <th>capture_rate</th>\n",
       "    </tr>\n",
       "    <tr>\n",
       "      <th>pokedex_number</th>\n",
       "      <th></th>\n",
       "    </tr>\n",
       "  </thead>\n",
       "  <tbody>\n",
       "    <tr>\n",
       "      <th>774</th>\n",
       "      <td>30 (Meteorite)255 (Core)</td>\n",
       "    </tr>\n",
       "  </tbody>\n",
       "</table>\n",
       "</div>"
      ],
      "text/plain": [
       "                            capture_rate\n",
       "pokedex_number                          \n",
       "774             30 (Meteorite)255 (Core)"
      ]
     },
     "execution_count": 61,
     "metadata": {},
     "output_type": "execute_result"
    }
   ],
   "source": [
    "# locate the index of the row with the string\n",
    "pokemon[['capture_rate']] [pokemon['capture_rate'].str.isnumeric() == False]"
   ]
  },
  {
   "cell_type": "code",
   "execution_count": 62,
   "id": "7c6051a7-1730-4dc3-9ad3-abbecd3c09c8",
   "metadata": {
    "tags": []
   },
   "outputs": [
    {
     "data": {
      "text/plain": [
       "pokedex_number\n",
       "1       45\n",
       "2       45\n",
       "3       45\n",
       "4       45\n",
       "5       45\n",
       "      ... \n",
       "797     25\n",
       "798    255\n",
       "799     15\n",
       "800      3\n",
       "801      3\n",
       "Name: capture_rate, Length: 801, dtype: int64"
      ]
     },
     "execution_count": 62,
     "metadata": {},
     "output_type": "execute_result"
    }
   ],
   "source": [
    "# replace original value with 255\n",
    "pokemon.at[774,'capture_rate'] = 255\n",
    "\n",
    "# convert column to int\n",
    "pokemon['capture_rate'] = pd.to_numeric(pokemon['capture_rate'])\n",
    "pokemon['capture_rate']"
   ]
  },
  {
   "cell_type": "markdown",
   "id": "61d3824e-9c28-48b1-bdf7-a552987fb814",
   "metadata": {},
   "source": [
    " <br>"
   ]
  },
  {
   "cell_type": "markdown",
   "id": "b49be565-5475-422f-8adb-ba28ceb5e62e",
   "metadata": {
    "tags": []
   },
   "source": [
    "**5. NULLs...**\n"
   ]
  },
  {
   "cell_type": "code",
   "execution_count": 63,
   "id": "0fd2deb8-8374-4b13-bea4-b62a46e2259e",
   "metadata": {
    "tags": []
   },
   "outputs": [
    {
     "data": {
      "text/plain": [
       "generation             0\n",
       "name                   0\n",
       "type1                  0\n",
       "type2                384\n",
       "base_total             0\n",
       "hp                     0\n",
       "attack                 0\n",
       "defense                0\n",
       "sp_attack              0\n",
       "sp_defense             0\n",
       "speed                  0\n",
       "abilities              0\n",
       "height_m              20\n",
       "weight_kg             20\n",
       "percentage_male       98\n",
       "percentage_female     98\n",
       "base_happiness         0\n",
       "capture_rate           0\n",
       "base_egg_steps         0\n",
       "is_legendary           0\n",
       "against_bug            0\n",
       "against_dark           0\n",
       "against_dragon         0\n",
       "against_electric       0\n",
       "against_fairy          0\n",
       "against_fight          0\n",
       "against_fire           0\n",
       "against_flying         0\n",
       "against_ghost          0\n",
       "against_grass          0\n",
       "against_ground         0\n",
       "against_ice            0\n",
       "against_normal         0\n",
       "against_poison         0\n",
       "against_psychic        0\n",
       "against_rock           0\n",
       "against_steel          0\n",
       "against_water          0\n",
       "dtype: int64"
      ]
     },
     "execution_count": 63,
     "metadata": {},
     "output_type": "execute_result"
    }
   ],
   "source": [
    "# find number of nulls in each columns\n",
    "pokemon.isnull().sum()"
   ]
  },
  {
   "cell_type": "markdown",
   "id": "ab1c3c34-c92f-4fdf-ac3e-5e936872fe2d",
   "metadata": {},
   "source": [
    "**Observations**\n",
    "* It's far from uncommon to have Pokemon that do not have a secondary type.\n",
    "\n",
    "* 20 Pokemon are missing their weights and heights... This is small compared to the 800+ pokemon we have.\n",
    "\n",
    "* 98 Pokemon are neither male nor female."
   ]
  },
  {
   "cell_type": "markdown",
   "id": "5b061251-489a-4495-b3d1-7b0e2e984c0a",
   "metadata": {},
   "source": [
    " <br>"
   ]
  },
  {
   "cell_type": "markdown",
   "id": "4aa6b138-d26a-4509-95d2-3cc2eb3d240b",
   "metadata": {},
   "source": [
    "**6. SQL database**"
   ]
  },
  {
   "cell_type": "code",
   "execution_count": 64,
   "id": "f1bbdc84-387c-4514-9f39-8b0c1c74df2a",
   "metadata": {
    "tags": []
   },
   "outputs": [
    {
     "data": {
      "text/plain": [
       "801"
      ]
     },
     "execution_count": 64,
     "metadata": {},
     "output_type": "execute_result"
    }
   ],
   "source": [
    "# making connection to database\n",
    "conn = sqlite3.connect('poke.db')\n",
    "\n",
    "# put resulted table in SQL database\n",
    "pokemon.to_sql('poke', conn)"
   ]
  },
  {
   "cell_type": "markdown",
   "id": "e579605d-d076-4177-ac86-d6d1e90f587d",
   "metadata": {},
   "source": [
    " <br>"
   ]
  },
  {
   "cell_type": "markdown",
   "id": "954f8293-eba0-45e5-96cb-51c540e084c5",
   "metadata": {},
   "source": [
    "**7. Cleaned Database**"
   ]
  },
  {
   "cell_type": "code",
   "execution_count": 65,
   "id": "5b701479-570a-485e-93e1-c2ffac1bd1eb",
   "metadata": {
    "tags": []
   },
   "outputs": [
    {
     "data": {
      "text/html": [
       "<div>\n",
       "<style scoped>\n",
       "    .dataframe tbody tr th:only-of-type {\n",
       "        vertical-align: middle;\n",
       "    }\n",
       "\n",
       "    .dataframe tbody tr th {\n",
       "        vertical-align: top;\n",
       "    }\n",
       "\n",
       "    .dataframe thead th {\n",
       "        text-align: right;\n",
       "    }\n",
       "</style>\n",
       "<table border=\"1\" class=\"dataframe\">\n",
       "  <thead>\n",
       "    <tr style=\"text-align: right;\">\n",
       "      <th></th>\n",
       "      <th>generation</th>\n",
       "      <th>name</th>\n",
       "      <th>type1</th>\n",
       "      <th>type2</th>\n",
       "      <th>base_total</th>\n",
       "      <th>hp</th>\n",
       "      <th>attack</th>\n",
       "      <th>defense</th>\n",
       "      <th>sp_attack</th>\n",
       "      <th>sp_defense</th>\n",
       "      <th>...</th>\n",
       "      <th>against_ghost</th>\n",
       "      <th>against_grass</th>\n",
       "      <th>against_ground</th>\n",
       "      <th>against_ice</th>\n",
       "      <th>against_normal</th>\n",
       "      <th>against_poison</th>\n",
       "      <th>against_psychic</th>\n",
       "      <th>against_rock</th>\n",
       "      <th>against_steel</th>\n",
       "      <th>against_water</th>\n",
       "    </tr>\n",
       "    <tr>\n",
       "      <th>pokedex_number</th>\n",
       "      <th></th>\n",
       "      <th></th>\n",
       "      <th></th>\n",
       "      <th></th>\n",
       "      <th></th>\n",
       "      <th></th>\n",
       "      <th></th>\n",
       "      <th></th>\n",
       "      <th></th>\n",
       "      <th></th>\n",
       "      <th></th>\n",
       "      <th></th>\n",
       "      <th></th>\n",
       "      <th></th>\n",
       "      <th></th>\n",
       "      <th></th>\n",
       "      <th></th>\n",
       "      <th></th>\n",
       "      <th></th>\n",
       "      <th></th>\n",
       "      <th></th>\n",
       "    </tr>\n",
       "  </thead>\n",
       "  <tbody>\n",
       "    <tr>\n",
       "      <th>1</th>\n",
       "      <td>1</td>\n",
       "      <td>Bulbasaur</td>\n",
       "      <td>grass</td>\n",
       "      <td>poison</td>\n",
       "      <td>318</td>\n",
       "      <td>45</td>\n",
       "      <td>49</td>\n",
       "      <td>49</td>\n",
       "      <td>65</td>\n",
       "      <td>65</td>\n",
       "      <td>...</td>\n",
       "      <td>1.0</td>\n",
       "      <td>0.25</td>\n",
       "      <td>1.0</td>\n",
       "      <td>2.0</td>\n",
       "      <td>1.0</td>\n",
       "      <td>1.0</td>\n",
       "      <td>2.0</td>\n",
       "      <td>1.0</td>\n",
       "      <td>1.0</td>\n",
       "      <td>0.5</td>\n",
       "    </tr>\n",
       "    <tr>\n",
       "      <th>2</th>\n",
       "      <td>1</td>\n",
       "      <td>Ivysaur</td>\n",
       "      <td>grass</td>\n",
       "      <td>poison</td>\n",
       "      <td>405</td>\n",
       "      <td>60</td>\n",
       "      <td>62</td>\n",
       "      <td>63</td>\n",
       "      <td>80</td>\n",
       "      <td>80</td>\n",
       "      <td>...</td>\n",
       "      <td>1.0</td>\n",
       "      <td>0.25</td>\n",
       "      <td>1.0</td>\n",
       "      <td>2.0</td>\n",
       "      <td>1.0</td>\n",
       "      <td>1.0</td>\n",
       "      <td>2.0</td>\n",
       "      <td>1.0</td>\n",
       "      <td>1.0</td>\n",
       "      <td>0.5</td>\n",
       "    </tr>\n",
       "    <tr>\n",
       "      <th>3</th>\n",
       "      <td>1</td>\n",
       "      <td>Venusaur</td>\n",
       "      <td>grass</td>\n",
       "      <td>poison</td>\n",
       "      <td>625</td>\n",
       "      <td>80</td>\n",
       "      <td>100</td>\n",
       "      <td>123</td>\n",
       "      <td>122</td>\n",
       "      <td>120</td>\n",
       "      <td>...</td>\n",
       "      <td>1.0</td>\n",
       "      <td>0.25</td>\n",
       "      <td>1.0</td>\n",
       "      <td>2.0</td>\n",
       "      <td>1.0</td>\n",
       "      <td>1.0</td>\n",
       "      <td>2.0</td>\n",
       "      <td>1.0</td>\n",
       "      <td>1.0</td>\n",
       "      <td>0.5</td>\n",
       "    </tr>\n",
       "    <tr>\n",
       "      <th>4</th>\n",
       "      <td>1</td>\n",
       "      <td>Charmander</td>\n",
       "      <td>fire</td>\n",
       "      <td>NaN</td>\n",
       "      <td>309</td>\n",
       "      <td>39</td>\n",
       "      <td>52</td>\n",
       "      <td>43</td>\n",
       "      <td>60</td>\n",
       "      <td>50</td>\n",
       "      <td>...</td>\n",
       "      <td>1.0</td>\n",
       "      <td>0.50</td>\n",
       "      <td>2.0</td>\n",
       "      <td>0.5</td>\n",
       "      <td>1.0</td>\n",
       "      <td>1.0</td>\n",
       "      <td>1.0</td>\n",
       "      <td>2.0</td>\n",
       "      <td>0.5</td>\n",
       "      <td>2.0</td>\n",
       "    </tr>\n",
       "    <tr>\n",
       "      <th>5</th>\n",
       "      <td>1</td>\n",
       "      <td>Charmeleon</td>\n",
       "      <td>fire</td>\n",
       "      <td>NaN</td>\n",
       "      <td>405</td>\n",
       "      <td>58</td>\n",
       "      <td>64</td>\n",
       "      <td>58</td>\n",
       "      <td>80</td>\n",
       "      <td>65</td>\n",
       "      <td>...</td>\n",
       "      <td>1.0</td>\n",
       "      <td>0.50</td>\n",
       "      <td>2.0</td>\n",
       "      <td>0.5</td>\n",
       "      <td>1.0</td>\n",
       "      <td>1.0</td>\n",
       "      <td>1.0</td>\n",
       "      <td>2.0</td>\n",
       "      <td>0.5</td>\n",
       "      <td>2.0</td>\n",
       "    </tr>\n",
       "    <tr>\n",
       "      <th>...</th>\n",
       "      <td>...</td>\n",
       "      <td>...</td>\n",
       "      <td>...</td>\n",
       "      <td>...</td>\n",
       "      <td>...</td>\n",
       "      <td>...</td>\n",
       "      <td>...</td>\n",
       "      <td>...</td>\n",
       "      <td>...</td>\n",
       "      <td>...</td>\n",
       "      <td>...</td>\n",
       "      <td>...</td>\n",
       "      <td>...</td>\n",
       "      <td>...</td>\n",
       "      <td>...</td>\n",
       "      <td>...</td>\n",
       "      <td>...</td>\n",
       "      <td>...</td>\n",
       "      <td>...</td>\n",
       "      <td>...</td>\n",
       "      <td>...</td>\n",
       "    </tr>\n",
       "    <tr>\n",
       "      <th>797</th>\n",
       "      <td>7</td>\n",
       "      <td>Celesteela</td>\n",
       "      <td>steel</td>\n",
       "      <td>flying</td>\n",
       "      <td>570</td>\n",
       "      <td>97</td>\n",
       "      <td>101</td>\n",
       "      <td>103</td>\n",
       "      <td>107</td>\n",
       "      <td>101</td>\n",
       "      <td>...</td>\n",
       "      <td>1.0</td>\n",
       "      <td>0.25</td>\n",
       "      <td>0.0</td>\n",
       "      <td>1.0</td>\n",
       "      <td>0.5</td>\n",
       "      <td>0.0</td>\n",
       "      <td>0.5</td>\n",
       "      <td>1.0</td>\n",
       "      <td>0.5</td>\n",
       "      <td>1.0</td>\n",
       "    </tr>\n",
       "    <tr>\n",
       "      <th>798</th>\n",
       "      <td>7</td>\n",
       "      <td>Kartana</td>\n",
       "      <td>grass</td>\n",
       "      <td>steel</td>\n",
       "      <td>570</td>\n",
       "      <td>59</td>\n",
       "      <td>181</td>\n",
       "      <td>131</td>\n",
       "      <td>59</td>\n",
       "      <td>31</td>\n",
       "      <td>...</td>\n",
       "      <td>1.0</td>\n",
       "      <td>0.25</td>\n",
       "      <td>1.0</td>\n",
       "      <td>1.0</td>\n",
       "      <td>0.5</td>\n",
       "      <td>0.0</td>\n",
       "      <td>0.5</td>\n",
       "      <td>0.5</td>\n",
       "      <td>0.5</td>\n",
       "      <td>0.5</td>\n",
       "    </tr>\n",
       "    <tr>\n",
       "      <th>799</th>\n",
       "      <td>7</td>\n",
       "      <td>Guzzlord</td>\n",
       "      <td>dark</td>\n",
       "      <td>dragon</td>\n",
       "      <td>570</td>\n",
       "      <td>223</td>\n",
       "      <td>101</td>\n",
       "      <td>53</td>\n",
       "      <td>97</td>\n",
       "      <td>53</td>\n",
       "      <td>...</td>\n",
       "      <td>0.5</td>\n",
       "      <td>0.50</td>\n",
       "      <td>1.0</td>\n",
       "      <td>2.0</td>\n",
       "      <td>1.0</td>\n",
       "      <td>1.0</td>\n",
       "      <td>0.0</td>\n",
       "      <td>1.0</td>\n",
       "      <td>1.0</td>\n",
       "      <td>0.5</td>\n",
       "    </tr>\n",
       "    <tr>\n",
       "      <th>800</th>\n",
       "      <td>7</td>\n",
       "      <td>Necrozma</td>\n",
       "      <td>psychic</td>\n",
       "      <td>NaN</td>\n",
       "      <td>600</td>\n",
       "      <td>97</td>\n",
       "      <td>107</td>\n",
       "      <td>101</td>\n",
       "      <td>127</td>\n",
       "      <td>89</td>\n",
       "      <td>...</td>\n",
       "      <td>2.0</td>\n",
       "      <td>1.00</td>\n",
       "      <td>1.0</td>\n",
       "      <td>1.0</td>\n",
       "      <td>1.0</td>\n",
       "      <td>1.0</td>\n",
       "      <td>0.5</td>\n",
       "      <td>1.0</td>\n",
       "      <td>1.0</td>\n",
       "      <td>1.0</td>\n",
       "    </tr>\n",
       "    <tr>\n",
       "      <th>801</th>\n",
       "      <td>7</td>\n",
       "      <td>Magearna</td>\n",
       "      <td>steel</td>\n",
       "      <td>fairy</td>\n",
       "      <td>600</td>\n",
       "      <td>80</td>\n",
       "      <td>95</td>\n",
       "      <td>115</td>\n",
       "      <td>130</td>\n",
       "      <td>115</td>\n",
       "      <td>...</td>\n",
       "      <td>1.0</td>\n",
       "      <td>0.50</td>\n",
       "      <td>2.0</td>\n",
       "      <td>0.5</td>\n",
       "      <td>0.5</td>\n",
       "      <td>0.0</td>\n",
       "      <td>0.5</td>\n",
       "      <td>0.5</td>\n",
       "      <td>1.0</td>\n",
       "      <td>1.0</td>\n",
       "    </tr>\n",
       "  </tbody>\n",
       "</table>\n",
       "<p>801 rows × 38 columns</p>\n",
       "</div>"
      ],
      "text/plain": [
       "                generation        name    type1   type2  base_total   hp  \\\n",
       "pokedex_number                                                             \n",
       "1                        1   Bulbasaur    grass  poison         318   45   \n",
       "2                        1     Ivysaur    grass  poison         405   60   \n",
       "3                        1    Venusaur    grass  poison         625   80   \n",
       "4                        1  Charmander     fire     NaN         309   39   \n",
       "5                        1  Charmeleon     fire     NaN         405   58   \n",
       "...                    ...         ...      ...     ...         ...  ...   \n",
       "797                      7  Celesteela    steel  flying         570   97   \n",
       "798                      7     Kartana    grass   steel         570   59   \n",
       "799                      7    Guzzlord     dark  dragon         570  223   \n",
       "800                      7    Necrozma  psychic     NaN         600   97   \n",
       "801                      7    Magearna    steel   fairy         600   80   \n",
       "\n",
       "                attack  defense  sp_attack  sp_defense  ...  against_ghost  \\\n",
       "pokedex_number                                          ...                  \n",
       "1                   49       49         65          65  ...            1.0   \n",
       "2                   62       63         80          80  ...            1.0   \n",
       "3                  100      123        122         120  ...            1.0   \n",
       "4                   52       43         60          50  ...            1.0   \n",
       "5                   64       58         80          65  ...            1.0   \n",
       "...                ...      ...        ...         ...  ...            ...   \n",
       "797                101      103        107         101  ...            1.0   \n",
       "798                181      131         59          31  ...            1.0   \n",
       "799                101       53         97          53  ...            0.5   \n",
       "800                107      101        127          89  ...            2.0   \n",
       "801                 95      115        130         115  ...            1.0   \n",
       "\n",
       "               against_grass  against_ground  against_ice  against_normal  \\\n",
       "pokedex_number                                                              \n",
       "1                       0.25             1.0          2.0             1.0   \n",
       "2                       0.25             1.0          2.0             1.0   \n",
       "3                       0.25             1.0          2.0             1.0   \n",
       "4                       0.50             2.0          0.5             1.0   \n",
       "5                       0.50             2.0          0.5             1.0   \n",
       "...                      ...             ...          ...             ...   \n",
       "797                     0.25             0.0          1.0             0.5   \n",
       "798                     0.25             1.0          1.0             0.5   \n",
       "799                     0.50             1.0          2.0             1.0   \n",
       "800                     1.00             1.0          1.0             1.0   \n",
       "801                     0.50             2.0          0.5             0.5   \n",
       "\n",
       "                against_poison  against_psychic  against_rock  against_steel  \\\n",
       "pokedex_number                                                                 \n",
       "1                          1.0              2.0           1.0            1.0   \n",
       "2                          1.0              2.0           1.0            1.0   \n",
       "3                          1.0              2.0           1.0            1.0   \n",
       "4                          1.0              1.0           2.0            0.5   \n",
       "5                          1.0              1.0           2.0            0.5   \n",
       "...                        ...              ...           ...            ...   \n",
       "797                        0.0              0.5           1.0            0.5   \n",
       "798                        0.0              0.5           0.5            0.5   \n",
       "799                        1.0              0.0           1.0            1.0   \n",
       "800                        1.0              0.5           1.0            1.0   \n",
       "801                        0.0              0.5           0.5            1.0   \n",
       "\n",
       "                against_water  \n",
       "pokedex_number                 \n",
       "1                         0.5  \n",
       "2                         0.5  \n",
       "3                         0.5  \n",
       "4                         2.0  \n",
       "5                         2.0  \n",
       "...                       ...  \n",
       "797                       1.0  \n",
       "798                       0.5  \n",
       "799                       0.5  \n",
       "800                       1.0  \n",
       "801                       1.0  \n",
       "\n",
       "[801 rows x 38 columns]"
      ]
     },
     "execution_count": 65,
     "metadata": {},
     "output_type": "execute_result"
    }
   ],
   "source": [
    "# showing new DataFrame\n",
    "pokemon"
   ]
  },
  {
   "cell_type": "markdown",
   "id": "6b56809f-d0dd-468c-bdba-bc12b6bb867a",
   "metadata": {
    "tags": []
   },
   "source": [
    "---"
   ]
  },
  {
   "cell_type": "markdown",
   "id": "4ee938fd-fb58-4b91-8582-af43ca970896",
   "metadata": {
    "tags": []
   },
   "source": [
    "## **Exploratory Data Analysis**"
   ]
  },
  {
   "cell_type": "markdown",
   "id": "c9c7a52f-48b9-45c0-bac6-09d6a769885e",
   "metadata": {
    "tags": []
   },
   "source": [
    "## General Statistics"
   ]
  },
  {
   "cell_type": "code",
   "execution_count": 66,
   "id": "d5bac5c2-81f9-4a09-b420-28a860a2fed7",
   "metadata": {
    "tags": []
   },
   "outputs": [
    {
     "data": {
      "text/html": [
       "<div>\n",
       "<style scoped>\n",
       "    .dataframe tbody tr th:only-of-type {\n",
       "        vertical-align: middle;\n",
       "    }\n",
       "\n",
       "    .dataframe tbody tr th {\n",
       "        vertical-align: top;\n",
       "    }\n",
       "\n",
       "    .dataframe thead th {\n",
       "        text-align: right;\n",
       "    }\n",
       "</style>\n",
       "<table border=\"1\" class=\"dataframe\">\n",
       "  <thead>\n",
       "    <tr style=\"text-align: right;\">\n",
       "      <th></th>\n",
       "      <th>generation</th>\n",
       "      <th>base_total</th>\n",
       "      <th>hp</th>\n",
       "      <th>attack</th>\n",
       "      <th>defense</th>\n",
       "      <th>sp_attack</th>\n",
       "      <th>sp_defense</th>\n",
       "      <th>speed</th>\n",
       "      <th>height_m</th>\n",
       "      <th>weight_kg</th>\n",
       "      <th>percentage_male</th>\n",
       "      <th>percentage_female</th>\n",
       "      <th>base_happiness</th>\n",
       "      <th>capture_rate</th>\n",
       "      <th>base_egg_steps</th>\n",
       "      <th>is_legendary</th>\n",
       "    </tr>\n",
       "  </thead>\n",
       "  <tbody>\n",
       "    <tr>\n",
       "      <th>count</th>\n",
       "      <td>801.000000</td>\n",
       "      <td>801.000000</td>\n",
       "      <td>801.000000</td>\n",
       "      <td>801.000000</td>\n",
       "      <td>801.000000</td>\n",
       "      <td>801.000000</td>\n",
       "      <td>801.000000</td>\n",
       "      <td>801.000000</td>\n",
       "      <td>781.000000</td>\n",
       "      <td>781.000000</td>\n",
       "      <td>703.000000</td>\n",
       "      <td>703.000000</td>\n",
       "      <td>801.000000</td>\n",
       "      <td>801.000000</td>\n",
       "      <td>801.000000</td>\n",
       "      <td>801.000000</td>\n",
       "    </tr>\n",
       "    <tr>\n",
       "      <th>mean</th>\n",
       "      <td>3.690387</td>\n",
       "      <td>428.377029</td>\n",
       "      <td>68.958801</td>\n",
       "      <td>77.857678</td>\n",
       "      <td>73.008739</td>\n",
       "      <td>71.305868</td>\n",
       "      <td>70.911361</td>\n",
       "      <td>66.334582</td>\n",
       "      <td>1.163892</td>\n",
       "      <td>61.378105</td>\n",
       "      <td>55.155761</td>\n",
       "      <td>44.844239</td>\n",
       "      <td>65.362047</td>\n",
       "      <td>98.956305</td>\n",
       "      <td>7191.011236</td>\n",
       "      <td>0.087391</td>\n",
       "    </tr>\n",
       "    <tr>\n",
       "      <th>std</th>\n",
       "      <td>1.930420</td>\n",
       "      <td>119.203577</td>\n",
       "      <td>26.576015</td>\n",
       "      <td>32.158820</td>\n",
       "      <td>30.769159</td>\n",
       "      <td>32.353826</td>\n",
       "      <td>27.942501</td>\n",
       "      <td>28.907662</td>\n",
       "      <td>1.080326</td>\n",
       "      <td>109.354766</td>\n",
       "      <td>20.261623</td>\n",
       "      <td>20.261623</td>\n",
       "      <td>19.598948</td>\n",
       "      <td>76.409828</td>\n",
       "      <td>6558.220422</td>\n",
       "      <td>0.282583</td>\n",
       "    </tr>\n",
       "    <tr>\n",
       "      <th>min</th>\n",
       "      <td>1.000000</td>\n",
       "      <td>180.000000</td>\n",
       "      <td>1.000000</td>\n",
       "      <td>5.000000</td>\n",
       "      <td>5.000000</td>\n",
       "      <td>10.000000</td>\n",
       "      <td>20.000000</td>\n",
       "      <td>5.000000</td>\n",
       "      <td>0.100000</td>\n",
       "      <td>0.100000</td>\n",
       "      <td>0.000000</td>\n",
       "      <td>0.000000</td>\n",
       "      <td>0.000000</td>\n",
       "      <td>3.000000</td>\n",
       "      <td>1280.000000</td>\n",
       "      <td>0.000000</td>\n",
       "    </tr>\n",
       "    <tr>\n",
       "      <th>25%</th>\n",
       "      <td>2.000000</td>\n",
       "      <td>320.000000</td>\n",
       "      <td>50.000000</td>\n",
       "      <td>55.000000</td>\n",
       "      <td>50.000000</td>\n",
       "      <td>45.000000</td>\n",
       "      <td>50.000000</td>\n",
       "      <td>45.000000</td>\n",
       "      <td>0.600000</td>\n",
       "      <td>9.000000</td>\n",
       "      <td>50.000000</td>\n",
       "      <td>50.000000</td>\n",
       "      <td>70.000000</td>\n",
       "      <td>45.000000</td>\n",
       "      <td>5120.000000</td>\n",
       "      <td>0.000000</td>\n",
       "    </tr>\n",
       "    <tr>\n",
       "      <th>50%</th>\n",
       "      <td>4.000000</td>\n",
       "      <td>435.000000</td>\n",
       "      <td>65.000000</td>\n",
       "      <td>75.000000</td>\n",
       "      <td>70.000000</td>\n",
       "      <td>65.000000</td>\n",
       "      <td>66.000000</td>\n",
       "      <td>65.000000</td>\n",
       "      <td>1.000000</td>\n",
       "      <td>27.300000</td>\n",
       "      <td>50.000000</td>\n",
       "      <td>50.000000</td>\n",
       "      <td>70.000000</td>\n",
       "      <td>60.000000</td>\n",
       "      <td>5120.000000</td>\n",
       "      <td>0.000000</td>\n",
       "    </tr>\n",
       "    <tr>\n",
       "      <th>75%</th>\n",
       "      <td>5.000000</td>\n",
       "      <td>505.000000</td>\n",
       "      <td>80.000000</td>\n",
       "      <td>100.000000</td>\n",
       "      <td>90.000000</td>\n",
       "      <td>91.000000</td>\n",
       "      <td>90.000000</td>\n",
       "      <td>85.000000</td>\n",
       "      <td>1.500000</td>\n",
       "      <td>64.800000</td>\n",
       "      <td>50.000000</td>\n",
       "      <td>50.000000</td>\n",
       "      <td>70.000000</td>\n",
       "      <td>170.000000</td>\n",
       "      <td>6400.000000</td>\n",
       "      <td>0.000000</td>\n",
       "    </tr>\n",
       "    <tr>\n",
       "      <th>max</th>\n",
       "      <td>7.000000</td>\n",
       "      <td>780.000000</td>\n",
       "      <td>255.000000</td>\n",
       "      <td>185.000000</td>\n",
       "      <td>230.000000</td>\n",
       "      <td>194.000000</td>\n",
       "      <td>230.000000</td>\n",
       "      <td>180.000000</td>\n",
       "      <td>14.500000</td>\n",
       "      <td>999.900000</td>\n",
       "      <td>100.000000</td>\n",
       "      <td>100.000000</td>\n",
       "      <td>140.000000</td>\n",
       "      <td>255.000000</td>\n",
       "      <td>30720.000000</td>\n",
       "      <td>1.000000</td>\n",
       "    </tr>\n",
       "  </tbody>\n",
       "</table>\n",
       "</div>"
      ],
      "text/plain": [
       "       generation  base_total          hp      attack     defense   sp_attack  \\\n",
       "count  801.000000  801.000000  801.000000  801.000000  801.000000  801.000000   \n",
       "mean     3.690387  428.377029   68.958801   77.857678   73.008739   71.305868   \n",
       "std      1.930420  119.203577   26.576015   32.158820   30.769159   32.353826   \n",
       "min      1.000000  180.000000    1.000000    5.000000    5.000000   10.000000   \n",
       "25%      2.000000  320.000000   50.000000   55.000000   50.000000   45.000000   \n",
       "50%      4.000000  435.000000   65.000000   75.000000   70.000000   65.000000   \n",
       "75%      5.000000  505.000000   80.000000  100.000000   90.000000   91.000000   \n",
       "max      7.000000  780.000000  255.000000  185.000000  230.000000  194.000000   \n",
       "\n",
       "       sp_defense       speed    height_m   weight_kg  percentage_male  \\\n",
       "count  801.000000  801.000000  781.000000  781.000000       703.000000   \n",
       "mean    70.911361   66.334582    1.163892   61.378105        55.155761   \n",
       "std     27.942501   28.907662    1.080326  109.354766        20.261623   \n",
       "min     20.000000    5.000000    0.100000    0.100000         0.000000   \n",
       "25%     50.000000   45.000000    0.600000    9.000000        50.000000   \n",
       "50%     66.000000   65.000000    1.000000   27.300000        50.000000   \n",
       "75%     90.000000   85.000000    1.500000   64.800000        50.000000   \n",
       "max    230.000000  180.000000   14.500000  999.900000       100.000000   \n",
       "\n",
       "       percentage_female  base_happiness  capture_rate  base_egg_steps  \\\n",
       "count         703.000000      801.000000    801.000000      801.000000   \n",
       "mean           44.844239       65.362047     98.956305     7191.011236   \n",
       "std            20.261623       19.598948     76.409828     6558.220422   \n",
       "min             0.000000        0.000000      3.000000     1280.000000   \n",
       "25%            50.000000       70.000000     45.000000     5120.000000   \n",
       "50%            50.000000       70.000000     60.000000     5120.000000   \n",
       "75%            50.000000       70.000000    170.000000     6400.000000   \n",
       "max           100.000000      140.000000    255.000000    30720.000000   \n",
       "\n",
       "       is_legendary  \n",
       "count    801.000000  \n",
       "mean       0.087391  \n",
       "std        0.282583  \n",
       "min        0.000000  \n",
       "25%        0.000000  \n",
       "50%        0.000000  \n",
       "75%        0.000000  \n",
       "max        1.000000  "
      ]
     },
     "execution_count": 66,
     "metadata": {},
     "output_type": "execute_result"
    }
   ],
   "source": [
    "# describing first 20 columns (everything before 'against_' data)\n",
    "pokemon.iloc[:,:20].describe()"
   ]
  },
  {
   "cell_type": "code",
   "execution_count": 67,
   "id": "6a1c105d-0aa9-41d4-91de-98a0ab3abe05",
   "metadata": {
    "tags": []
   },
   "outputs": [
    {
     "data": {
      "text/html": [
       "<div>\n",
       "<style scoped>\n",
       "    .dataframe tbody tr th:only-of-type {\n",
       "        vertical-align: middle;\n",
       "    }\n",
       "\n",
       "    .dataframe tbody tr th {\n",
       "        vertical-align: top;\n",
       "    }\n",
       "\n",
       "    .dataframe thead th {\n",
       "        text-align: right;\n",
       "    }\n",
       "</style>\n",
       "<table border=\"1\" class=\"dataframe\">\n",
       "  <thead>\n",
       "    <tr style=\"text-align: right;\">\n",
       "      <th></th>\n",
       "      <th>against_bug</th>\n",
       "      <th>against_dark</th>\n",
       "      <th>against_dragon</th>\n",
       "      <th>against_electric</th>\n",
       "      <th>against_fairy</th>\n",
       "      <th>against_fight</th>\n",
       "      <th>against_fire</th>\n",
       "      <th>against_flying</th>\n",
       "      <th>against_ghost</th>\n",
       "      <th>against_grass</th>\n",
       "      <th>against_ground</th>\n",
       "      <th>against_ice</th>\n",
       "      <th>against_normal</th>\n",
       "      <th>against_poison</th>\n",
       "      <th>against_psychic</th>\n",
       "      <th>against_rock</th>\n",
       "      <th>against_steel</th>\n",
       "      <th>against_water</th>\n",
       "    </tr>\n",
       "  </thead>\n",
       "  <tbody>\n",
       "    <tr>\n",
       "      <th>count</th>\n",
       "      <td>801.000000</td>\n",
       "      <td>801.000000</td>\n",
       "      <td>801.000000</td>\n",
       "      <td>801.000000</td>\n",
       "      <td>801.000000</td>\n",
       "      <td>801.000000</td>\n",
       "      <td>801.000000</td>\n",
       "      <td>801.000000</td>\n",
       "      <td>801.000000</td>\n",
       "      <td>801.000000</td>\n",
       "      <td>801.000000</td>\n",
       "      <td>801.000000</td>\n",
       "      <td>801.000000</td>\n",
       "      <td>801.000000</td>\n",
       "      <td>801.000000</td>\n",
       "      <td>801.000000</td>\n",
       "      <td>801.000000</td>\n",
       "      <td>801.000000</td>\n",
       "    </tr>\n",
       "    <tr>\n",
       "      <th>mean</th>\n",
       "      <td>0.996255</td>\n",
       "      <td>1.057116</td>\n",
       "      <td>0.968789</td>\n",
       "      <td>1.073970</td>\n",
       "      <td>1.068976</td>\n",
       "      <td>1.065543</td>\n",
       "      <td>1.135456</td>\n",
       "      <td>1.192884</td>\n",
       "      <td>0.985019</td>\n",
       "      <td>1.034020</td>\n",
       "      <td>1.098002</td>\n",
       "      <td>1.208177</td>\n",
       "      <td>0.887016</td>\n",
       "      <td>0.975343</td>\n",
       "      <td>1.005306</td>\n",
       "      <td>1.250312</td>\n",
       "      <td>0.983458</td>\n",
       "      <td>1.058365</td>\n",
       "    </tr>\n",
       "    <tr>\n",
       "      <th>std</th>\n",
       "      <td>0.597248</td>\n",
       "      <td>0.438142</td>\n",
       "      <td>0.353058</td>\n",
       "      <td>0.654962</td>\n",
       "      <td>0.522167</td>\n",
       "      <td>0.717251</td>\n",
       "      <td>0.691853</td>\n",
       "      <td>0.604488</td>\n",
       "      <td>0.558256</td>\n",
       "      <td>0.788896</td>\n",
       "      <td>0.738818</td>\n",
       "      <td>0.735356</td>\n",
       "      <td>0.266106</td>\n",
       "      <td>0.549375</td>\n",
       "      <td>0.495183</td>\n",
       "      <td>0.697148</td>\n",
       "      <td>0.500117</td>\n",
       "      <td>0.606562</td>\n",
       "    </tr>\n",
       "    <tr>\n",
       "      <th>min</th>\n",
       "      <td>0.250000</td>\n",
       "      <td>0.250000</td>\n",
       "      <td>0.000000</td>\n",
       "      <td>0.000000</td>\n",
       "      <td>0.250000</td>\n",
       "      <td>0.000000</td>\n",
       "      <td>0.250000</td>\n",
       "      <td>0.250000</td>\n",
       "      <td>0.000000</td>\n",
       "      <td>0.250000</td>\n",
       "      <td>0.000000</td>\n",
       "      <td>0.250000</td>\n",
       "      <td>0.000000</td>\n",
       "      <td>0.000000</td>\n",
       "      <td>0.000000</td>\n",
       "      <td>0.250000</td>\n",
       "      <td>0.250000</td>\n",
       "      <td>0.250000</td>\n",
       "    </tr>\n",
       "    <tr>\n",
       "      <th>25%</th>\n",
       "      <td>0.500000</td>\n",
       "      <td>1.000000</td>\n",
       "      <td>1.000000</td>\n",
       "      <td>0.500000</td>\n",
       "      <td>1.000000</td>\n",
       "      <td>0.500000</td>\n",
       "      <td>0.500000</td>\n",
       "      <td>1.000000</td>\n",
       "      <td>1.000000</td>\n",
       "      <td>0.500000</td>\n",
       "      <td>1.000000</td>\n",
       "      <td>0.500000</td>\n",
       "      <td>1.000000</td>\n",
       "      <td>0.500000</td>\n",
       "      <td>1.000000</td>\n",
       "      <td>1.000000</td>\n",
       "      <td>0.500000</td>\n",
       "      <td>0.500000</td>\n",
       "    </tr>\n",
       "    <tr>\n",
       "      <th>50%</th>\n",
       "      <td>1.000000</td>\n",
       "      <td>1.000000</td>\n",
       "      <td>1.000000</td>\n",
       "      <td>1.000000</td>\n",
       "      <td>1.000000</td>\n",
       "      <td>1.000000</td>\n",
       "      <td>1.000000</td>\n",
       "      <td>1.000000</td>\n",
       "      <td>1.000000</td>\n",
       "      <td>1.000000</td>\n",
       "      <td>1.000000</td>\n",
       "      <td>1.000000</td>\n",
       "      <td>1.000000</td>\n",
       "      <td>1.000000</td>\n",
       "      <td>1.000000</td>\n",
       "      <td>1.000000</td>\n",
       "      <td>1.000000</td>\n",
       "      <td>1.000000</td>\n",
       "    </tr>\n",
       "    <tr>\n",
       "      <th>75%</th>\n",
       "      <td>1.000000</td>\n",
       "      <td>1.000000</td>\n",
       "      <td>1.000000</td>\n",
       "      <td>1.000000</td>\n",
       "      <td>1.000000</td>\n",
       "      <td>1.000000</td>\n",
       "      <td>2.000000</td>\n",
       "      <td>1.000000</td>\n",
       "      <td>1.000000</td>\n",
       "      <td>1.000000</td>\n",
       "      <td>1.000000</td>\n",
       "      <td>2.000000</td>\n",
       "      <td>1.000000</td>\n",
       "      <td>1.000000</td>\n",
       "      <td>1.000000</td>\n",
       "      <td>2.000000</td>\n",
       "      <td>1.000000</td>\n",
       "      <td>1.000000</td>\n",
       "    </tr>\n",
       "    <tr>\n",
       "      <th>max</th>\n",
       "      <td>4.000000</td>\n",
       "      <td>4.000000</td>\n",
       "      <td>2.000000</td>\n",
       "      <td>4.000000</td>\n",
       "      <td>4.000000</td>\n",
       "      <td>4.000000</td>\n",
       "      <td>4.000000</td>\n",
       "      <td>4.000000</td>\n",
       "      <td>4.000000</td>\n",
       "      <td>4.000000</td>\n",
       "      <td>4.000000</td>\n",
       "      <td>4.000000</td>\n",
       "      <td>1.000000</td>\n",
       "      <td>4.000000</td>\n",
       "      <td>4.000000</td>\n",
       "      <td>4.000000</td>\n",
       "      <td>4.000000</td>\n",
       "      <td>4.000000</td>\n",
       "    </tr>\n",
       "  </tbody>\n",
       "</table>\n",
       "</div>"
      ],
      "text/plain": [
       "       against_bug  against_dark  against_dragon  against_electric  \\\n",
       "count   801.000000    801.000000      801.000000        801.000000   \n",
       "mean      0.996255      1.057116        0.968789          1.073970   \n",
       "std       0.597248      0.438142        0.353058          0.654962   \n",
       "min       0.250000      0.250000        0.000000          0.000000   \n",
       "25%       0.500000      1.000000        1.000000          0.500000   \n",
       "50%       1.000000      1.000000        1.000000          1.000000   \n",
       "75%       1.000000      1.000000        1.000000          1.000000   \n",
       "max       4.000000      4.000000        2.000000          4.000000   \n",
       "\n",
       "       against_fairy  against_fight  against_fire  against_flying  \\\n",
       "count     801.000000     801.000000    801.000000      801.000000   \n",
       "mean        1.068976       1.065543      1.135456        1.192884   \n",
       "std         0.522167       0.717251      0.691853        0.604488   \n",
       "min         0.250000       0.000000      0.250000        0.250000   \n",
       "25%         1.000000       0.500000      0.500000        1.000000   \n",
       "50%         1.000000       1.000000      1.000000        1.000000   \n",
       "75%         1.000000       1.000000      2.000000        1.000000   \n",
       "max         4.000000       4.000000      4.000000        4.000000   \n",
       "\n",
       "       against_ghost  against_grass  against_ground  against_ice  \\\n",
       "count     801.000000     801.000000      801.000000   801.000000   \n",
       "mean        0.985019       1.034020        1.098002     1.208177   \n",
       "std         0.558256       0.788896        0.738818     0.735356   \n",
       "min         0.000000       0.250000        0.000000     0.250000   \n",
       "25%         1.000000       0.500000        1.000000     0.500000   \n",
       "50%         1.000000       1.000000        1.000000     1.000000   \n",
       "75%         1.000000       1.000000        1.000000     2.000000   \n",
       "max         4.000000       4.000000        4.000000     4.000000   \n",
       "\n",
       "       against_normal  against_poison  against_psychic  against_rock  \\\n",
       "count      801.000000      801.000000       801.000000    801.000000   \n",
       "mean         0.887016        0.975343         1.005306      1.250312   \n",
       "std          0.266106        0.549375         0.495183      0.697148   \n",
       "min          0.000000        0.000000         0.000000      0.250000   \n",
       "25%          1.000000        0.500000         1.000000      1.000000   \n",
       "50%          1.000000        1.000000         1.000000      1.000000   \n",
       "75%          1.000000        1.000000         1.000000      2.000000   \n",
       "max          1.000000        4.000000         4.000000      4.000000   \n",
       "\n",
       "       against_steel  against_water  \n",
       "count     801.000000     801.000000  \n",
       "mean        0.983458       1.058365  \n",
       "std         0.500117       0.606562  \n",
       "min         0.250000       0.250000  \n",
       "25%         0.500000       0.500000  \n",
       "50%         1.000000       1.000000  \n",
       "75%         1.000000       1.000000  \n",
       "max         4.000000       4.000000  "
      ]
     },
     "execution_count": 67,
     "metadata": {},
     "output_type": "execute_result"
    }
   ],
   "source": [
    "# describing first 20 columns (all 'against_' data)\n",
    "pokemon.iloc[:,20:].describe()"
   ]
  },
  {
   "cell_type": "markdown",
   "id": "fc298f16-4ffe-482a-a68c-6365f0d618c8",
   "metadata": {},
   "source": [
    " <br>"
   ]
  },
  {
   "cell_type": "markdown",
   "id": "b01081e8-1fe7-405b-97b1-ce9b4725ac72",
   "metadata": {},
   "source": [
    "## Some Fun Top 10s!!!"
   ]
  },
  {
   "cell_type": "markdown",
   "id": "0babddce-17b0-4d92-a813-eef075b79f6f",
   "metadata": {},
   "source": [
    "Top 10 Strongest Pokemon (Total Stats)!"
   ]
  },
  {
   "cell_type": "code",
   "execution_count": 68,
   "id": "05d36a0a-ed0c-4fbb-bf50-e635a220ebb4",
   "metadata": {
    "tags": []
   },
   "outputs": [
    {
     "data": {
      "text/html": [
       "<div>\n",
       "<style scoped>\n",
       "    .dataframe tbody tr th:only-of-type {\n",
       "        vertical-align: middle;\n",
       "    }\n",
       "\n",
       "    .dataframe tbody tr th {\n",
       "        vertical-align: top;\n",
       "    }\n",
       "\n",
       "    .dataframe thead th {\n",
       "        text-align: right;\n",
       "    }\n",
       "</style>\n",
       "<table border=\"1\" class=\"dataframe\">\n",
       "  <thead>\n",
       "    <tr style=\"text-align: right;\">\n",
       "      <th></th>\n",
       "      <th>generation</th>\n",
       "      <th>name</th>\n",
       "      <th>type1</th>\n",
       "      <th>type2</th>\n",
       "      <th>base_total</th>\n",
       "      <th>hp</th>\n",
       "      <th>attack</th>\n",
       "      <th>defense</th>\n",
       "      <th>sp_attack</th>\n",
       "      <th>sp_defense</th>\n",
       "      <th>...</th>\n",
       "      <th>against_ghost</th>\n",
       "      <th>against_grass</th>\n",
       "      <th>against_ground</th>\n",
       "      <th>against_ice</th>\n",
       "      <th>against_normal</th>\n",
       "      <th>against_poison</th>\n",
       "      <th>against_psychic</th>\n",
       "      <th>against_rock</th>\n",
       "      <th>against_steel</th>\n",
       "      <th>against_water</th>\n",
       "    </tr>\n",
       "    <tr>\n",
       "      <th>pokedex_number</th>\n",
       "      <th></th>\n",
       "      <th></th>\n",
       "      <th></th>\n",
       "      <th></th>\n",
       "      <th></th>\n",
       "      <th></th>\n",
       "      <th></th>\n",
       "      <th></th>\n",
       "      <th></th>\n",
       "      <th></th>\n",
       "      <th></th>\n",
       "      <th></th>\n",
       "      <th></th>\n",
       "      <th></th>\n",
       "      <th></th>\n",
       "      <th></th>\n",
       "      <th></th>\n",
       "      <th></th>\n",
       "      <th></th>\n",
       "      <th></th>\n",
       "      <th></th>\n",
       "    </tr>\n",
       "  </thead>\n",
       "  <tbody>\n",
       "    <tr>\n",
       "      <th>150</th>\n",
       "      <td>1</td>\n",
       "      <td>Mewtwo</td>\n",
       "      <td>psychic</td>\n",
       "      <td>None</td>\n",
       "      <td>780</td>\n",
       "      <td>106</td>\n",
       "      <td>150</td>\n",
       "      <td>70</td>\n",
       "      <td>194</td>\n",
       "      <td>120</td>\n",
       "      <td>...</td>\n",
       "      <td>2.0</td>\n",
       "      <td>1.00</td>\n",
       "      <td>1.0</td>\n",
       "      <td>1.0</td>\n",
       "      <td>1.0</td>\n",
       "      <td>1.0</td>\n",
       "      <td>0.50</td>\n",
       "      <td>1.0</td>\n",
       "      <td>1.0</td>\n",
       "      <td>1.0</td>\n",
       "    </tr>\n",
       "    <tr>\n",
       "      <th>384</th>\n",
       "      <td>3</td>\n",
       "      <td>Rayquaza</td>\n",
       "      <td>dragon</td>\n",
       "      <td>flying</td>\n",
       "      <td>780</td>\n",
       "      <td>105</td>\n",
       "      <td>180</td>\n",
       "      <td>100</td>\n",
       "      <td>180</td>\n",
       "      <td>100</td>\n",
       "      <td>...</td>\n",
       "      <td>1.0</td>\n",
       "      <td>0.25</td>\n",
       "      <td>0.0</td>\n",
       "      <td>4.0</td>\n",
       "      <td>1.0</td>\n",
       "      <td>1.0</td>\n",
       "      <td>1.00</td>\n",
       "      <td>2.0</td>\n",
       "      <td>1.0</td>\n",
       "      <td>0.5</td>\n",
       "    </tr>\n",
       "    <tr>\n",
       "      <th>382</th>\n",
       "      <td>3</td>\n",
       "      <td>Kyogre</td>\n",
       "      <td>water</td>\n",
       "      <td>None</td>\n",
       "      <td>770</td>\n",
       "      <td>100</td>\n",
       "      <td>150</td>\n",
       "      <td>90</td>\n",
       "      <td>180</td>\n",
       "      <td>160</td>\n",
       "      <td>...</td>\n",
       "      <td>1.0</td>\n",
       "      <td>2.00</td>\n",
       "      <td>1.0</td>\n",
       "      <td>0.5</td>\n",
       "      <td>1.0</td>\n",
       "      <td>1.0</td>\n",
       "      <td>1.00</td>\n",
       "      <td>1.0</td>\n",
       "      <td>0.5</td>\n",
       "      <td>0.5</td>\n",
       "    </tr>\n",
       "    <tr>\n",
       "      <th>383</th>\n",
       "      <td>3</td>\n",
       "      <td>Groudon</td>\n",
       "      <td>ground</td>\n",
       "      <td>None</td>\n",
       "      <td>770</td>\n",
       "      <td>100</td>\n",
       "      <td>180</td>\n",
       "      <td>160</td>\n",
       "      <td>150</td>\n",
       "      <td>90</td>\n",
       "      <td>...</td>\n",
       "      <td>1.0</td>\n",
       "      <td>2.00</td>\n",
       "      <td>1.0</td>\n",
       "      <td>2.0</td>\n",
       "      <td>1.0</td>\n",
       "      <td>0.5</td>\n",
       "      <td>1.00</td>\n",
       "      <td>0.5</td>\n",
       "      <td>1.0</td>\n",
       "      <td>2.0</td>\n",
       "    </tr>\n",
       "    <tr>\n",
       "      <th>493</th>\n",
       "      <td>4</td>\n",
       "      <td>Arceus</td>\n",
       "      <td>normal</td>\n",
       "      <td>None</td>\n",
       "      <td>720</td>\n",
       "      <td>120</td>\n",
       "      <td>120</td>\n",
       "      <td>120</td>\n",
       "      <td>120</td>\n",
       "      <td>120</td>\n",
       "      <td>...</td>\n",
       "      <td>0.0</td>\n",
       "      <td>1.00</td>\n",
       "      <td>1.0</td>\n",
       "      <td>1.0</td>\n",
       "      <td>1.0</td>\n",
       "      <td>1.0</td>\n",
       "      <td>1.00</td>\n",
       "      <td>1.0</td>\n",
       "      <td>1.0</td>\n",
       "      <td>1.0</td>\n",
       "    </tr>\n",
       "    <tr>\n",
       "      <th>718</th>\n",
       "      <td>6</td>\n",
       "      <td>Zygarde</td>\n",
       "      <td>dragon</td>\n",
       "      <td>ground</td>\n",
       "      <td>708</td>\n",
       "      <td>216</td>\n",
       "      <td>100</td>\n",
       "      <td>121</td>\n",
       "      <td>91</td>\n",
       "      <td>95</td>\n",
       "      <td>...</td>\n",
       "      <td>1.0</td>\n",
       "      <td>1.00</td>\n",
       "      <td>1.0</td>\n",
       "      <td>4.0</td>\n",
       "      <td>1.0</td>\n",
       "      <td>0.5</td>\n",
       "      <td>1.00</td>\n",
       "      <td>0.5</td>\n",
       "      <td>1.0</td>\n",
       "      <td>1.0</td>\n",
       "    </tr>\n",
       "    <tr>\n",
       "      <th>248</th>\n",
       "      <td>2</td>\n",
       "      <td>Tyranitar</td>\n",
       "      <td>rock</td>\n",
       "      <td>dark</td>\n",
       "      <td>700</td>\n",
       "      <td>100</td>\n",
       "      <td>164</td>\n",
       "      <td>150</td>\n",
       "      <td>95</td>\n",
       "      <td>120</td>\n",
       "      <td>...</td>\n",
       "      <td>0.5</td>\n",
       "      <td>2.00</td>\n",
       "      <td>2.0</td>\n",
       "      <td>1.0</td>\n",
       "      <td>0.5</td>\n",
       "      <td>0.5</td>\n",
       "      <td>0.00</td>\n",
       "      <td>1.0</td>\n",
       "      <td>2.0</td>\n",
       "      <td>2.0</td>\n",
       "    </tr>\n",
       "    <tr>\n",
       "      <th>373</th>\n",
       "      <td>3</td>\n",
       "      <td>Salamence</td>\n",
       "      <td>dragon</td>\n",
       "      <td>flying</td>\n",
       "      <td>700</td>\n",
       "      <td>95</td>\n",
       "      <td>145</td>\n",
       "      <td>130</td>\n",
       "      <td>120</td>\n",
       "      <td>90</td>\n",
       "      <td>...</td>\n",
       "      <td>1.0</td>\n",
       "      <td>0.25</td>\n",
       "      <td>0.0</td>\n",
       "      <td>4.0</td>\n",
       "      <td>1.0</td>\n",
       "      <td>1.0</td>\n",
       "      <td>1.00</td>\n",
       "      <td>2.0</td>\n",
       "      <td>1.0</td>\n",
       "      <td>0.5</td>\n",
       "    </tr>\n",
       "    <tr>\n",
       "      <th>376</th>\n",
       "      <td>3</td>\n",
       "      <td>Metagross</td>\n",
       "      <td>steel</td>\n",
       "      <td>psychic</td>\n",
       "      <td>700</td>\n",
       "      <td>80</td>\n",
       "      <td>145</td>\n",
       "      <td>150</td>\n",
       "      <td>105</td>\n",
       "      <td>110</td>\n",
       "      <td>...</td>\n",
       "      <td>2.0</td>\n",
       "      <td>0.50</td>\n",
       "      <td>2.0</td>\n",
       "      <td>0.5</td>\n",
       "      <td>0.5</td>\n",
       "      <td>0.0</td>\n",
       "      <td>0.25</td>\n",
       "      <td>0.5</td>\n",
       "      <td>0.5</td>\n",
       "      <td>1.0</td>\n",
       "    </tr>\n",
       "    <tr>\n",
       "      <th>380</th>\n",
       "      <td>3</td>\n",
       "      <td>Latias</td>\n",
       "      <td>dragon</td>\n",
       "      <td>psychic</td>\n",
       "      <td>700</td>\n",
       "      <td>80</td>\n",
       "      <td>100</td>\n",
       "      <td>120</td>\n",
       "      <td>140</td>\n",
       "      <td>150</td>\n",
       "      <td>...</td>\n",
       "      <td>2.0</td>\n",
       "      <td>0.50</td>\n",
       "      <td>1.0</td>\n",
       "      <td>2.0</td>\n",
       "      <td>1.0</td>\n",
       "      <td>1.0</td>\n",
       "      <td>0.50</td>\n",
       "      <td>1.0</td>\n",
       "      <td>1.0</td>\n",
       "      <td>0.5</td>\n",
       "    </tr>\n",
       "  </tbody>\n",
       "</table>\n",
       "<p>10 rows × 38 columns</p>\n",
       "</div>"
      ],
      "text/plain": [
       "                generation       name    type1    type2  base_total   hp  \\\n",
       "pokedex_number                                                             \n",
       "150                      1     Mewtwo  psychic     None         780  106   \n",
       "384                      3   Rayquaza   dragon   flying         780  105   \n",
       "382                      3     Kyogre    water     None         770  100   \n",
       "383                      3    Groudon   ground     None         770  100   \n",
       "493                      4     Arceus   normal     None         720  120   \n",
       "718                      6    Zygarde   dragon   ground         708  216   \n",
       "248                      2  Tyranitar     rock     dark         700  100   \n",
       "373                      3  Salamence   dragon   flying         700   95   \n",
       "376                      3  Metagross    steel  psychic         700   80   \n",
       "380                      3     Latias   dragon  psychic         700   80   \n",
       "\n",
       "                attack  defense  sp_attack  sp_defense  ...  against_ghost  \\\n",
       "pokedex_number                                          ...                  \n",
       "150                150       70        194         120  ...            2.0   \n",
       "384                180      100        180         100  ...            1.0   \n",
       "382                150       90        180         160  ...            1.0   \n",
       "383                180      160        150          90  ...            1.0   \n",
       "493                120      120        120         120  ...            0.0   \n",
       "718                100      121         91          95  ...            1.0   \n",
       "248                164      150         95         120  ...            0.5   \n",
       "373                145      130        120          90  ...            1.0   \n",
       "376                145      150        105         110  ...            2.0   \n",
       "380                100      120        140         150  ...            2.0   \n",
       "\n",
       "               against_grass  against_ground  against_ice  against_normal  \\\n",
       "pokedex_number                                                              \n",
       "150                     1.00             1.0          1.0             1.0   \n",
       "384                     0.25             0.0          4.0             1.0   \n",
       "382                     2.00             1.0          0.5             1.0   \n",
       "383                     2.00             1.0          2.0             1.0   \n",
       "493                     1.00             1.0          1.0             1.0   \n",
       "718                     1.00             1.0          4.0             1.0   \n",
       "248                     2.00             2.0          1.0             0.5   \n",
       "373                     0.25             0.0          4.0             1.0   \n",
       "376                     0.50             2.0          0.5             0.5   \n",
       "380                     0.50             1.0          2.0             1.0   \n",
       "\n",
       "                against_poison  against_psychic  against_rock  against_steel  \\\n",
       "pokedex_number                                                                 \n",
       "150                        1.0             0.50           1.0            1.0   \n",
       "384                        1.0             1.00           2.0            1.0   \n",
       "382                        1.0             1.00           1.0            0.5   \n",
       "383                        0.5             1.00           0.5            1.0   \n",
       "493                        1.0             1.00           1.0            1.0   \n",
       "718                        0.5             1.00           0.5            1.0   \n",
       "248                        0.5             0.00           1.0            2.0   \n",
       "373                        1.0             1.00           2.0            1.0   \n",
       "376                        0.0             0.25           0.5            0.5   \n",
       "380                        1.0             0.50           1.0            1.0   \n",
       "\n",
       "                against_water  \n",
       "pokedex_number                 \n",
       "150                       1.0  \n",
       "384                       0.5  \n",
       "382                       0.5  \n",
       "383                       2.0  \n",
       "493                       1.0  \n",
       "718                       1.0  \n",
       "248                       2.0  \n",
       "373                       0.5  \n",
       "376                       1.0  \n",
       "380                       0.5  \n",
       "\n",
       "[10 rows x 38 columns]"
      ]
     },
     "execution_count": 68,
     "metadata": {},
     "output_type": "execute_result"
    }
   ],
   "source": [
    "# query data with SQL and putting it in a DataFrame\n",
    "sql_query = 'SELECT * FROM poke ORDER BY base_total DESC LIMIT 10'\n",
    "data = pd.read_sql(sql_query, conn)\n",
    "data = data.set_index('pokedex_number')\n",
    "data"
   ]
  },
  {
   "cell_type": "markdown",
   "id": "1e3e9f1c-2ecd-4975-99e3-48fb90fe9df4",
   "metadata": {},
   "source": [
    "Top 10 Strongest Non-Legendary!"
   ]
  },
  {
   "cell_type": "code",
   "execution_count": 69,
   "id": "2bda73c1-bcd3-4ee3-9157-9e31c4358d93",
   "metadata": {
    "tags": []
   },
   "outputs": [
    {
     "data": {
      "text/html": [
       "<div>\n",
       "<style scoped>\n",
       "    .dataframe tbody tr th:only-of-type {\n",
       "        vertical-align: middle;\n",
       "    }\n",
       "\n",
       "    .dataframe tbody tr th {\n",
       "        vertical-align: top;\n",
       "    }\n",
       "\n",
       "    .dataframe thead th {\n",
       "        text-align: right;\n",
       "    }\n",
       "</style>\n",
       "<table border=\"1\" class=\"dataframe\">\n",
       "  <thead>\n",
       "    <tr style=\"text-align: right;\">\n",
       "      <th></th>\n",
       "      <th>generation</th>\n",
       "      <th>name</th>\n",
       "      <th>type1</th>\n",
       "      <th>type2</th>\n",
       "      <th>base_total</th>\n",
       "      <th>hp</th>\n",
       "      <th>attack</th>\n",
       "      <th>defense</th>\n",
       "      <th>sp_attack</th>\n",
       "      <th>sp_defense</th>\n",
       "      <th>...</th>\n",
       "      <th>against_ghost</th>\n",
       "      <th>against_grass</th>\n",
       "      <th>against_ground</th>\n",
       "      <th>against_ice</th>\n",
       "      <th>against_normal</th>\n",
       "      <th>against_poison</th>\n",
       "      <th>against_psychic</th>\n",
       "      <th>against_rock</th>\n",
       "      <th>against_steel</th>\n",
       "      <th>against_water</th>\n",
       "    </tr>\n",
       "    <tr>\n",
       "      <th>pokedex_number</th>\n",
       "      <th></th>\n",
       "      <th></th>\n",
       "      <th></th>\n",
       "      <th></th>\n",
       "      <th></th>\n",
       "      <th></th>\n",
       "      <th></th>\n",
       "      <th></th>\n",
       "      <th></th>\n",
       "      <th></th>\n",
       "      <th></th>\n",
       "      <th></th>\n",
       "      <th></th>\n",
       "      <th></th>\n",
       "      <th></th>\n",
       "      <th></th>\n",
       "      <th></th>\n",
       "      <th></th>\n",
       "      <th></th>\n",
       "      <th></th>\n",
       "      <th></th>\n",
       "    </tr>\n",
       "  </thead>\n",
       "  <tbody>\n",
       "    <tr>\n",
       "      <th>248</th>\n",
       "      <td>2</td>\n",
       "      <td>Tyranitar</td>\n",
       "      <td>rock</td>\n",
       "      <td>dark</td>\n",
       "      <td>700</td>\n",
       "      <td>100</td>\n",
       "      <td>164</td>\n",
       "      <td>150</td>\n",
       "      <td>95</td>\n",
       "      <td>120</td>\n",
       "      <td>...</td>\n",
       "      <td>0.5</td>\n",
       "      <td>2.00</td>\n",
       "      <td>2.0</td>\n",
       "      <td>1.0</td>\n",
       "      <td>0.5</td>\n",
       "      <td>0.5</td>\n",
       "      <td>0.00</td>\n",
       "      <td>1.0</td>\n",
       "      <td>2.0</td>\n",
       "      <td>2.0</td>\n",
       "    </tr>\n",
       "    <tr>\n",
       "      <th>373</th>\n",
       "      <td>3</td>\n",
       "      <td>Salamence</td>\n",
       "      <td>dragon</td>\n",
       "      <td>flying</td>\n",
       "      <td>700</td>\n",
       "      <td>95</td>\n",
       "      <td>145</td>\n",
       "      <td>130</td>\n",
       "      <td>120</td>\n",
       "      <td>90</td>\n",
       "      <td>...</td>\n",
       "      <td>1.0</td>\n",
       "      <td>0.25</td>\n",
       "      <td>0.0</td>\n",
       "      <td>4.0</td>\n",
       "      <td>1.0</td>\n",
       "      <td>1.0</td>\n",
       "      <td>1.00</td>\n",
       "      <td>2.0</td>\n",
       "      <td>1.0</td>\n",
       "      <td>0.5</td>\n",
       "    </tr>\n",
       "    <tr>\n",
       "      <th>376</th>\n",
       "      <td>3</td>\n",
       "      <td>Metagross</td>\n",
       "      <td>steel</td>\n",
       "      <td>psychic</td>\n",
       "      <td>700</td>\n",
       "      <td>80</td>\n",
       "      <td>145</td>\n",
       "      <td>150</td>\n",
       "      <td>105</td>\n",
       "      <td>110</td>\n",
       "      <td>...</td>\n",
       "      <td>2.0</td>\n",
       "      <td>0.50</td>\n",
       "      <td>2.0</td>\n",
       "      <td>0.5</td>\n",
       "      <td>0.5</td>\n",
       "      <td>0.0</td>\n",
       "      <td>0.25</td>\n",
       "      <td>0.5</td>\n",
       "      <td>0.5</td>\n",
       "      <td>1.0</td>\n",
       "    </tr>\n",
       "    <tr>\n",
       "      <th>445</th>\n",
       "      <td>4</td>\n",
       "      <td>Garchomp</td>\n",
       "      <td>dragon</td>\n",
       "      <td>ground</td>\n",
       "      <td>700</td>\n",
       "      <td>108</td>\n",
       "      <td>170</td>\n",
       "      <td>115</td>\n",
       "      <td>120</td>\n",
       "      <td>95</td>\n",
       "      <td>...</td>\n",
       "      <td>1.0</td>\n",
       "      <td>1.00</td>\n",
       "      <td>1.0</td>\n",
       "      <td>4.0</td>\n",
       "      <td>1.0</td>\n",
       "      <td>0.5</td>\n",
       "      <td>1.00</td>\n",
       "      <td>0.5</td>\n",
       "      <td>1.0</td>\n",
       "      <td>1.0</td>\n",
       "    </tr>\n",
       "    <tr>\n",
       "      <th>289</th>\n",
       "      <td>3</td>\n",
       "      <td>Slaking</td>\n",
       "      <td>normal</td>\n",
       "      <td>None</td>\n",
       "      <td>670</td>\n",
       "      <td>150</td>\n",
       "      <td>160</td>\n",
       "      <td>100</td>\n",
       "      <td>95</td>\n",
       "      <td>65</td>\n",
       "      <td>...</td>\n",
       "      <td>0.0</td>\n",
       "      <td>1.00</td>\n",
       "      <td>1.0</td>\n",
       "      <td>1.0</td>\n",
       "      <td>1.0</td>\n",
       "      <td>1.0</td>\n",
       "      <td>1.00</td>\n",
       "      <td>1.0</td>\n",
       "      <td>1.0</td>\n",
       "      <td>1.0</td>\n",
       "    </tr>\n",
       "    <tr>\n",
       "      <th>130</th>\n",
       "      <td>1</td>\n",
       "      <td>Gyarados</td>\n",
       "      <td>water</td>\n",
       "      <td>flying</td>\n",
       "      <td>640</td>\n",
       "      <td>95</td>\n",
       "      <td>155</td>\n",
       "      <td>109</td>\n",
       "      <td>70</td>\n",
       "      <td>130</td>\n",
       "      <td>...</td>\n",
       "      <td>1.0</td>\n",
       "      <td>1.00</td>\n",
       "      <td>0.0</td>\n",
       "      <td>1.0</td>\n",
       "      <td>1.0</td>\n",
       "      <td>1.0</td>\n",
       "      <td>1.00</td>\n",
       "      <td>2.0</td>\n",
       "      <td>0.5</td>\n",
       "      <td>0.5</td>\n",
       "    </tr>\n",
       "    <tr>\n",
       "      <th>658</th>\n",
       "      <td>6</td>\n",
       "      <td>Greninja</td>\n",
       "      <td>water</td>\n",
       "      <td>dark</td>\n",
       "      <td>640</td>\n",
       "      <td>72</td>\n",
       "      <td>145</td>\n",
       "      <td>67</td>\n",
       "      <td>153</td>\n",
       "      <td>71</td>\n",
       "      <td>...</td>\n",
       "      <td>0.5</td>\n",
       "      <td>2.00</td>\n",
       "      <td>1.0</td>\n",
       "      <td>0.5</td>\n",
       "      <td>1.0</td>\n",
       "      <td>1.0</td>\n",
       "      <td>0.00</td>\n",
       "      <td>1.0</td>\n",
       "      <td>0.5</td>\n",
       "      <td>0.5</td>\n",
       "    </tr>\n",
       "    <tr>\n",
       "      <th>260</th>\n",
       "      <td>3</td>\n",
       "      <td>Swampert</td>\n",
       "      <td>water</td>\n",
       "      <td>ground</td>\n",
       "      <td>635</td>\n",
       "      <td>100</td>\n",
       "      <td>150</td>\n",
       "      <td>110</td>\n",
       "      <td>95</td>\n",
       "      <td>110</td>\n",
       "      <td>...</td>\n",
       "      <td>1.0</td>\n",
       "      <td>4.00</td>\n",
       "      <td>1.0</td>\n",
       "      <td>1.0</td>\n",
       "      <td>1.0</td>\n",
       "      <td>0.5</td>\n",
       "      <td>1.00</td>\n",
       "      <td>0.5</td>\n",
       "      <td>0.5</td>\n",
       "      <td>1.0</td>\n",
       "    </tr>\n",
       "    <tr>\n",
       "      <th>6</th>\n",
       "      <td>1</td>\n",
       "      <td>Charizard</td>\n",
       "      <td>fire</td>\n",
       "      <td>flying</td>\n",
       "      <td>634</td>\n",
       "      <td>78</td>\n",
       "      <td>104</td>\n",
       "      <td>78</td>\n",
       "      <td>159</td>\n",
       "      <td>115</td>\n",
       "      <td>...</td>\n",
       "      <td>1.0</td>\n",
       "      <td>0.25</td>\n",
       "      <td>0.0</td>\n",
       "      <td>1.0</td>\n",
       "      <td>1.0</td>\n",
       "      <td>1.0</td>\n",
       "      <td>1.00</td>\n",
       "      <td>4.0</td>\n",
       "      <td>0.5</td>\n",
       "      <td>2.0</td>\n",
       "    </tr>\n",
       "    <tr>\n",
       "      <th>9</th>\n",
       "      <td>1</td>\n",
       "      <td>Blastoise</td>\n",
       "      <td>water</td>\n",
       "      <td>None</td>\n",
       "      <td>630</td>\n",
       "      <td>79</td>\n",
       "      <td>103</td>\n",
       "      <td>120</td>\n",
       "      <td>135</td>\n",
       "      <td>115</td>\n",
       "      <td>...</td>\n",
       "      <td>1.0</td>\n",
       "      <td>2.00</td>\n",
       "      <td>1.0</td>\n",
       "      <td>0.5</td>\n",
       "      <td>1.0</td>\n",
       "      <td>1.0</td>\n",
       "      <td>1.00</td>\n",
       "      <td>1.0</td>\n",
       "      <td>0.5</td>\n",
       "      <td>0.5</td>\n",
       "    </tr>\n",
       "  </tbody>\n",
       "</table>\n",
       "<p>10 rows × 38 columns</p>\n",
       "</div>"
      ],
      "text/plain": [
       "                generation       name   type1    type2  base_total   hp  \\\n",
       "pokedex_number                                                            \n",
       "248                      2  Tyranitar    rock     dark         700  100   \n",
       "373                      3  Salamence  dragon   flying         700   95   \n",
       "376                      3  Metagross   steel  psychic         700   80   \n",
       "445                      4   Garchomp  dragon   ground         700  108   \n",
       "289                      3    Slaking  normal     None         670  150   \n",
       "130                      1   Gyarados   water   flying         640   95   \n",
       "658                      6   Greninja   water     dark         640   72   \n",
       "260                      3   Swampert   water   ground         635  100   \n",
       "6                        1  Charizard    fire   flying         634   78   \n",
       "9                        1  Blastoise   water     None         630   79   \n",
       "\n",
       "                attack  defense  sp_attack  sp_defense  ...  against_ghost  \\\n",
       "pokedex_number                                          ...                  \n",
       "248                164      150         95         120  ...            0.5   \n",
       "373                145      130        120          90  ...            1.0   \n",
       "376                145      150        105         110  ...            2.0   \n",
       "445                170      115        120          95  ...            1.0   \n",
       "289                160      100         95          65  ...            0.0   \n",
       "130                155      109         70         130  ...            1.0   \n",
       "658                145       67        153          71  ...            0.5   \n",
       "260                150      110         95         110  ...            1.0   \n",
       "6                  104       78        159         115  ...            1.0   \n",
       "9                  103      120        135         115  ...            1.0   \n",
       "\n",
       "               against_grass  against_ground  against_ice  against_normal  \\\n",
       "pokedex_number                                                              \n",
       "248                     2.00             2.0          1.0             0.5   \n",
       "373                     0.25             0.0          4.0             1.0   \n",
       "376                     0.50             2.0          0.5             0.5   \n",
       "445                     1.00             1.0          4.0             1.0   \n",
       "289                     1.00             1.0          1.0             1.0   \n",
       "130                     1.00             0.0          1.0             1.0   \n",
       "658                     2.00             1.0          0.5             1.0   \n",
       "260                     4.00             1.0          1.0             1.0   \n",
       "6                       0.25             0.0          1.0             1.0   \n",
       "9                       2.00             1.0          0.5             1.0   \n",
       "\n",
       "                against_poison  against_psychic  against_rock  against_steel  \\\n",
       "pokedex_number                                                                 \n",
       "248                        0.5             0.00           1.0            2.0   \n",
       "373                        1.0             1.00           2.0            1.0   \n",
       "376                        0.0             0.25           0.5            0.5   \n",
       "445                        0.5             1.00           0.5            1.0   \n",
       "289                        1.0             1.00           1.0            1.0   \n",
       "130                        1.0             1.00           2.0            0.5   \n",
       "658                        1.0             0.00           1.0            0.5   \n",
       "260                        0.5             1.00           0.5            0.5   \n",
       "6                          1.0             1.00           4.0            0.5   \n",
       "9                          1.0             1.00           1.0            0.5   \n",
       "\n",
       "                against_water  \n",
       "pokedex_number                 \n",
       "248                       2.0  \n",
       "373                       0.5  \n",
       "376                       1.0  \n",
       "445                       1.0  \n",
       "289                       1.0  \n",
       "130                       0.5  \n",
       "658                       0.5  \n",
       "260                       1.0  \n",
       "6                         2.0  \n",
       "9                         0.5  \n",
       "\n",
       "[10 rows x 38 columns]"
      ]
     },
     "execution_count": 69,
     "metadata": {},
     "output_type": "execute_result"
    }
   ],
   "source": [
    "# query data with SQL and putting it in a DataFrame\n",
    "sql_query = 'SELECT * FROM poke WHERE is_legendary IS NOT 1 ORDER BY base_total DESC LIMIT 10'\n",
    "data = pd.read_sql(sql_query, conn)\n",
    "data = data.set_index('pokedex_number')\n",
    "data"
   ]
  },
  {
   "cell_type": "markdown",
   "id": "244ca700-a412-4c68-9fd7-bed13f3b4c5f",
   "metadata": {},
   "source": [
    " <br>"
   ]
  },
  {
   "cell_type": "markdown",
   "id": "c1694367-aa4d-4433-b621-198cd2bafbed",
   "metadata": {
    "tags": []
   },
   "source": [
    "## Questions"
   ]
  },
  {
   "cell_type": "markdown",
   "id": "a6a9133b-d493-4002-828a-be18a8b7c3b1",
   "metadata": {
    "tags": []
   },
   "source": [
    "### General Information"
   ]
  },
  {
   "cell_type": "markdown",
   "id": "4fc80d13-8781-4d95-b142-d2627579ac87",
   "metadata": {
    "tags": []
   },
   "source": [
    "**1. % Males vs % of Females**"
   ]
  },
  {
   "cell_type": "code",
   "execution_count": 70,
   "id": "14c80901-8bb0-4bb4-b7c7-89694315939b",
   "metadata": {
    "tags": []
   },
   "outputs": [
    {
     "data": {
      "text/plain": [
       "Text(0.5, 1.0, '% Males vs % Female')"
      ]
     },
     "execution_count": 70,
     "metadata": {},
     "output_type": "execute_result"
    },
    {
     "data": {
      "image/png": "[encoded data removed]",
      "text/plain": [
       "<Figure size 864x432 with 1 Axes>"
      ]
     },
     "metadata": {},
     "output_type": "display_data"
    }
   ],
   "source": [
    "# prepare data for chart\n",
    "data = [pokemon['percentage_male'].mean(), pokemon['percentage_female'].mean()]\n",
    "\n",
    "# plot result on pie chart\n",
    "fig, ax = plt.subplots(figsize=(12,6))\n",
    "ax.pie(data, labels=['Male', 'Female'], autopct='%.2f%%')\n",
    "ax.set_title('% Males vs % Female')"
   ]
  },
  {
   "cell_type": "markdown",
   "id": "5f650c95-c9b8-4f70-ad15-e9d9741a1e0b",
   "metadata": {
    "tags": []
   },
   "source": [
    "**2. Number of Pokemon per Type**"
   ]
  },
  {
   "cell_type": "code",
   "execution_count": 71,
   "id": "0c38624c-4ba8-4dbb-aff8-cc2f3120f02a",
   "metadata": {
    "tags": []
   },
   "outputs": [
    {
     "data": {
      "text/html": [
       "<div>\n",
       "<style scoped>\n",
       "    .dataframe tbody tr th:only-of-type {\n",
       "        vertical-align: middle;\n",
       "    }\n",
       "\n",
       "    .dataframe tbody tr th {\n",
       "        vertical-align: top;\n",
       "    }\n",
       "\n",
       "    .dataframe thead th {\n",
       "        text-align: right;\n",
       "    }\n",
       "</style>\n",
       "<table border=\"1\" class=\"dataframe\">\n",
       "  <thead>\n",
       "    <tr style=\"text-align: right;\">\n",
       "      <th></th>\n",
       "      <th>Type1_Count</th>\n",
       "      <th>Type2_Count</th>\n",
       "    </tr>\n",
       "    <tr>\n",
       "      <th>Types</th>\n",
       "      <th></th>\n",
       "      <th></th>\n",
       "    </tr>\n",
       "  </thead>\n",
       "  <tbody>\n",
       "    <tr>\n",
       "      <th>bug</th>\n",
       "      <td>72</td>\n",
       "      <td>5</td>\n",
       "    </tr>\n",
       "    <tr>\n",
       "      <th>dark</th>\n",
       "      <td>29</td>\n",
       "      <td>21</td>\n",
       "    </tr>\n",
       "    <tr>\n",
       "      <th>dragon</th>\n",
       "      <td>27</td>\n",
       "      <td>17</td>\n",
       "    </tr>\n",
       "    <tr>\n",
       "      <th>electric</th>\n",
       "      <td>39</td>\n",
       "      <td>9</td>\n",
       "    </tr>\n",
       "    <tr>\n",
       "      <th>fairy</th>\n",
       "      <td>18</td>\n",
       "      <td>29</td>\n",
       "    </tr>\n",
       "    <tr>\n",
       "      <th>fighting</th>\n",
       "      <td>28</td>\n",
       "      <td>25</td>\n",
       "    </tr>\n",
       "    <tr>\n",
       "      <th>fire</th>\n",
       "      <td>52</td>\n",
       "      <td>13</td>\n",
       "    </tr>\n",
       "    <tr>\n",
       "      <th>flying</th>\n",
       "      <td>3</td>\n",
       "      <td>95</td>\n",
       "    </tr>\n",
       "    <tr>\n",
       "      <th>ghost</th>\n",
       "      <td>27</td>\n",
       "      <td>14</td>\n",
       "    </tr>\n",
       "    <tr>\n",
       "      <th>grass</th>\n",
       "      <td>78</td>\n",
       "      <td>20</td>\n",
       "    </tr>\n",
       "    <tr>\n",
       "      <th>ground</th>\n",
       "      <td>32</td>\n",
       "      <td>34</td>\n",
       "    </tr>\n",
       "    <tr>\n",
       "      <th>ice</th>\n",
       "      <td>23</td>\n",
       "      <td>15</td>\n",
       "    </tr>\n",
       "    <tr>\n",
       "      <th>normal</th>\n",
       "      <td>105</td>\n",
       "      <td>4</td>\n",
       "    </tr>\n",
       "    <tr>\n",
       "      <th>poison</th>\n",
       "      <td>32</td>\n",
       "      <td>34</td>\n",
       "    </tr>\n",
       "    <tr>\n",
       "      <th>psychic</th>\n",
       "      <td>53</td>\n",
       "      <td>29</td>\n",
       "    </tr>\n",
       "    <tr>\n",
       "      <th>rock</th>\n",
       "      <td>45</td>\n",
       "      <td>14</td>\n",
       "    </tr>\n",
       "    <tr>\n",
       "      <th>steel</th>\n",
       "      <td>24</td>\n",
       "      <td>22</td>\n",
       "    </tr>\n",
       "    <tr>\n",
       "      <th>water</th>\n",
       "      <td>114</td>\n",
       "      <td>17</td>\n",
       "    </tr>\n",
       "  </tbody>\n",
       "</table>\n",
       "</div>"
      ],
      "text/plain": [
       "          Type1_Count  Type2_Count\n",
       "Types                             \n",
       "bug                72            5\n",
       "dark               29           21\n",
       "dragon             27           17\n",
       "electric           39            9\n",
       "fairy              18           29\n",
       "fighting           28           25\n",
       "fire               52           13\n",
       "flying              3           95\n",
       "ghost              27           14\n",
       "grass              78           20\n",
       "ground             32           34\n",
       "ice                23           15\n",
       "normal            105            4\n",
       "poison             32           34\n",
       "psychic            53           29\n",
       "rock               45           14\n",
       "steel              24           22\n",
       "water             114           17"
      ]
     },
     "execution_count": 71,
     "metadata": {},
     "output_type": "execute_result"
    },
    {
     "data": {
      "image/png": "[encoded data removed]",
      "text/plain": [
       "<Figure size 864x432 with 1 Axes>"
      ]
     },
     "metadata": {
      "needs_background": "light"
     },
     "output_type": "display_data"
    }
   ],
   "source": [
    "# prepare data for chart\n",
    "sql_query = 'SELECT type1 AS Type, COUNT(type1) AS Type1_Count FROM poke GROUP BY Type'\n",
    "data1 = pd.read_sql(sql_query, conn)\n",
    "\n",
    "sql_query = 'SELECT type2 AS Type, COUNT(type2) AS Type2_Count FROM poke WHERE type2 IS NOT NULL GROUP BY Type'\n",
    "data2 = pd.read_sql(sql_query, conn)\n",
    "\n",
    "data = pd.DataFrame().assign(Types=data1['Type'], Type1_Count=data1['Type1_Count'], Type2_Count=data2['Type2_Count'])\n",
    "data = data.set_index('Types')\n",
    "\n",
    "\n",
    "# show DataFrame created from SQL queries + plot results on bar graph\n",
    "data.plot(kind='bar', figsize=(12,6), title='Population by Types', ylabel='Count')\n",
    "data"
   ]
  },
  {
   "cell_type": "markdown",
   "id": "db06ce8e-6806-4593-9d06-060289f7108a",
   "metadata": {
    "tags": []
   },
   "source": [
    "### The Bigger the Stronger?"
   ]
  },
  {
   "cell_type": "markdown",
   "id": "65d4e87d-282f-408a-9118-1ab8d4a8bb08",
   "metadata": {
    "tags": []
   },
   "source": [
    "**3. base_total vs weight_kg**"
   ]
  },
  {
   "cell_type": "code",
   "execution_count": 72,
   "id": "30c354e9-d291-45d7-96b9-ebb0643d6cab",
   "metadata": {
    "tags": []
   },
   "outputs": [
    {
     "data": {
      "text/html": [
       "<div>\n",
       "<style scoped>\n",
       "    .dataframe tbody tr th:only-of-type {\n",
       "        vertical-align: middle;\n",
       "    }\n",
       "\n",
       "    .dataframe tbody tr th {\n",
       "        vertical-align: top;\n",
       "    }\n",
       "\n",
       "    .dataframe thead th {\n",
       "        text-align: right;\n",
       "    }\n",
       "</style>\n",
       "<table border=\"1\" class=\"dataframe\">\n",
       "  <thead>\n",
       "    <tr style=\"text-align: right;\">\n",
       "      <th></th>\n",
       "      <th>base_total</th>\n",
       "      <th>weight_kg</th>\n",
       "    </tr>\n",
       "  </thead>\n",
       "  <tbody>\n",
       "    <tr>\n",
       "      <th>base_total</th>\n",
       "      <td>1.000000</td>\n",
       "      <td>0.458111</td>\n",
       "    </tr>\n",
       "    <tr>\n",
       "      <th>weight_kg</th>\n",
       "      <td>0.458111</td>\n",
       "      <td>1.000000</td>\n",
       "    </tr>\n",
       "  </tbody>\n",
       "</table>\n",
       "</div>"
      ],
      "text/plain": [
       "            base_total  weight_kg\n",
       "base_total    1.000000   0.458111\n",
       "weight_kg     0.458111   1.000000"
      ]
     },
     "execution_count": 72,
     "metadata": {},
     "output_type": "execute_result"
    },
    {
     "data": {
      "image/png": "[encoded data removed]",
      "text/plain": [
       "<Figure size 432x288 with 1 Axes>"
      ]
     },
     "metadata": {
      "needs_background": "light"
     },
     "output_type": "display_data"
    }
   ],
   "source": [
    "# assigning 2 columns to new DataFrame\n",
    "data = pd.DataFrame().assign(base_total=pokemon['base_total'], weight_kg=pokemon['weight_kg'])\n",
    "\n",
    "# visualizing new DataFrame + displaying correlation between two columns/variables\n",
    "sns.regplot(x=data['base_total'], y=data['weight_kg']).set_title('Total Stats vs Weight')\n",
    "data.corr()"
   ]
  },
  {
   "cell_type": "markdown",
   "id": "e0278c10-154f-4b85-b9ef-717e2650a489",
   "metadata": {
    "tags": []
   },
   "source": [
    "**4. base_total vs height_m**\n"
   ]
  },
  {
   "cell_type": "code",
   "execution_count": 73,
   "id": "b4e5b86b-a496-4b42-aa33-6ac669012804",
   "metadata": {
    "tags": []
   },
   "outputs": [
    {
     "data": {
      "text/html": [
       "<div>\n",
       "<style scoped>\n",
       "    .dataframe tbody tr th:only-of-type {\n",
       "        vertical-align: middle;\n",
       "    }\n",
       "\n",
       "    .dataframe tbody tr th {\n",
       "        vertical-align: top;\n",
       "    }\n",
       "\n",
       "    .dataframe thead th {\n",
       "        text-align: right;\n",
       "    }\n",
       "</style>\n",
       "<table border=\"1\" class=\"dataframe\">\n",
       "  <thead>\n",
       "    <tr style=\"text-align: right;\">\n",
       "      <th></th>\n",
       "      <th>base_total</th>\n",
       "      <th>height_m</th>\n",
       "    </tr>\n",
       "  </thead>\n",
       "  <tbody>\n",
       "    <tr>\n",
       "      <th>base_total</th>\n",
       "      <td>1.000000</td>\n",
       "      <td>0.535063</td>\n",
       "    </tr>\n",
       "    <tr>\n",
       "      <th>height_m</th>\n",
       "      <td>0.535063</td>\n",
       "      <td>1.000000</td>\n",
       "    </tr>\n",
       "  </tbody>\n",
       "</table>\n",
       "</div>"
      ],
      "text/plain": [
       "            base_total  height_m\n",
       "base_total    1.000000  0.535063\n",
       "height_m      0.535063  1.000000"
      ]
     },
     "execution_count": 73,
     "metadata": {},
     "output_type": "execute_result"
    },
    {
     "data": {
      "image/png": "[encoded data removed]",
      "text/plain": [
       "<Figure size 432x288 with 1 Axes>"
      ]
     },
     "metadata": {
      "needs_background": "light"
     },
     "output_type": "display_data"
    }
   ],
   "source": [
    "# assigning 2 columns to new DataFrame\n",
    "data = pd.DataFrame().assign(base_total=pokemon['base_total'], height_m=pokemon['height_m'])\n",
    "\n",
    "# visualizing new DataFrame + displaying correlation between two columns/variables\n",
    "sns.regplot(x=data['base_total'], y=data['height_m']).set_title('Total Stats vs Height')\n",
    "data.corr()"
   ]
  },
  {
   "cell_type": "markdown",
   "id": "9d91a973-e182-4116-870f-c51b88537388",
   "metadata": {},
   "source": [
    " <br>"
   ]
  },
  {
   "cell_type": "markdown",
   "id": "7be01b96-177d-47b1-a410-e10994ab7b19",
   "metadata": {
    "tags": []
   },
   "source": [
    "### The Stronger the Harder to Catch?"
   ]
  },
  {
   "cell_type": "markdown",
   "id": "d574344f-30dd-469c-80bf-c788a2c07e18",
   "metadata": {
    "tags": []
   },
   "source": [
    "**5. base_total vs capture_rate**"
   ]
  },
  {
   "cell_type": "code",
   "execution_count": 74,
   "id": "26431796-c65a-4e08-8349-26b30f25b409",
   "metadata": {
    "tags": []
   },
   "outputs": [
    {
     "data": {
      "text/html": [
       "<div>\n",
       "<style scoped>\n",
       "    .dataframe tbody tr th:only-of-type {\n",
       "        vertical-align: middle;\n",
       "    }\n",
       "\n",
       "    .dataframe tbody tr th {\n",
       "        vertical-align: top;\n",
       "    }\n",
       "\n",
       "    .dataframe thead th {\n",
       "        text-align: right;\n",
       "    }\n",
       "</style>\n",
       "<table border=\"1\" class=\"dataframe\">\n",
       "  <thead>\n",
       "    <tr style=\"text-align: right;\">\n",
       "      <th></th>\n",
       "      <th>base_total</th>\n",
       "      <th>capture_rate</th>\n",
       "    </tr>\n",
       "  </thead>\n",
       "  <tbody>\n",
       "    <tr>\n",
       "      <th>base_total</th>\n",
       "      <td>1.000000</td>\n",
       "      <td>-0.708563</td>\n",
       "    </tr>\n",
       "    <tr>\n",
       "      <th>capture_rate</th>\n",
       "      <td>-0.708563</td>\n",
       "      <td>1.000000</td>\n",
       "    </tr>\n",
       "  </tbody>\n",
       "</table>\n",
       "</div>"
      ],
      "text/plain": [
       "              base_total  capture_rate\n",
       "base_total      1.000000     -0.708563\n",
       "capture_rate   -0.708563      1.000000"
      ]
     },
     "execution_count": 74,
     "metadata": {},
     "output_type": "execute_result"
    },
    {
     "data": {
      "image/png": "[encoded data removed]",
      "text/plain": [
       "<Figure size 432x288 with 1 Axes>"
      ]
     },
     "metadata": {
      "needs_background": "light"
     },
     "output_type": "display_data"
    }
   ],
   "source": [
    "# assigning 2 columns to new DataFrame\n",
    "data = pd.DataFrame().assign(base_total=pokemon['base_total'], capture_rate=pokemon['capture_rate'])\n",
    "\n",
    "# visualizing new DataFrame + displaying correlation between two columns/variables\n",
    "sns.regplot(x=data['base_total'], y=data['capture_rate']).set_title('Total Stats vs Capture Rate')\n",
    "data.corr()"
   ]
  },
  {
   "cell_type": "markdown",
   "id": "9db929c6-f435-4ec5-8df2-a2845d7a3a93",
   "metadata": {},
   "source": [
    " <br>"
   ]
  },
  {
   "cell_type": "markdown",
   "id": "cf3c57c0-5a0c-4842-8cad-770d93756d43",
   "metadata": {
    "tags": []
   },
   "source": [
    "### Pokemon with the Best Statistics?"
   ]
  },
  {
   "cell_type": "markdown",
   "id": "6f152a9e-6239-479e-b91a-baba2006c91b",
   "metadata": {
    "tags": []
   },
   "source": [
    "**6. Which Types have the best Stats (excluding Legendaries)?**"
   ]
  },
  {
   "cell_type": "code",
   "execution_count": 75,
   "id": "e9e0ff23-cf5d-46d9-aa46-919b8673a2ff",
   "metadata": {
    "tags": []
   },
   "outputs": [],
   "source": [
    "# SQL query data for boxplots\n",
    "sql_query = 'SELECT type1 AS Type, base_total AS Total_Stats, hp, attack, defense, sp_attack, sp_defense, speed FROM poke WHERE is_legendary IS NOT 1'\n",
    "data = pd.read_sql(sql_query, conn)\n",
    "data = data.set_index('Type')"
   ]
  },
  {
   "cell_type": "code",
   "execution_count": 76,
   "id": "45ef0979-fe38-428b-a234-b03159fc11f8",
   "metadata": {
    "tags": []
   },
   "outputs": [
    {
     "data": {
      "text/plain": [
       "<AxesSubplot:title={'center':'Total_Stats'}, xlabel='Type'>"
      ]
     },
     "execution_count": 76,
     "metadata": {},
     "output_type": "execute_result"
    },
    {
     "data": {
      "image/png": "[encoded data removed]",
      "text/plain": [
       "<Figure size 864x360 with 1 Axes>"
      ]
     },
     "metadata": {
      "needs_background": "light"
     },
     "output_type": "display_data"
    }
   ],
   "source": [
    "data.boxplot(column=['Total_Stats'], figsize=(12,5), by='Type')"
   ]
  },
  {
   "cell_type": "code",
   "execution_count": 77,
   "id": "0645d51d-aa95-4128-9c0b-45ad702a3159",
   "metadata": {
    "tags": []
   },
   "outputs": [
    {
     "data": {
      "text/plain": [
       "<AxesSubplot:title={'center':'hp'}, xlabel='Type'>"
      ]
     },
     "execution_count": 77,
     "metadata": {},
     "output_type": "execute_result"
    },
    {
     "data": {
      "image/png": "[encoded data removed]",
      "text/plain": [
       "<Figure size 864x360 with 1 Axes>"
      ]
     },
     "metadata": {
      "needs_background": "light"
     },
     "output_type": "display_data"
    }
   ],
   "source": [
    "data.boxplot(column=['hp'], figsize=(12,5), by='Type')"
   ]
  },
  {
   "cell_type": "code",
   "execution_count": 78,
   "id": "9625b488-5c21-4f03-a1b4-749384dbb6a5",
   "metadata": {
    "tags": []
   },
   "outputs": [
    {
     "data": {
      "text/plain": [
       "<AxesSubplot:title={'center':'attack'}, xlabel='Type'>"
      ]
     },
     "execution_count": 78,
     "metadata": {},
     "output_type": "execute_result"
    },
    {
     "data": {
      "image/png": "[encoded data removed]",
      "text/plain": [
       "<Figure size 864x360 with 1 Axes>"
      ]
     },
     "metadata": {
      "needs_background": "light"
     },
     "output_type": "display_data"
    }
   ],
   "source": [
    "data.boxplot(column=['attack'], figsize=(12,5), by='Type')"
   ]
  },
  {
   "cell_type": "code",
   "execution_count": 79,
   "id": "8898c6a8-b06a-4ffd-926a-c5145c84f19e",
   "metadata": {
    "tags": []
   },
   "outputs": [
    {
     "data": {
      "text/plain": [
       "<AxesSubplot:title={'center':'defense'}, xlabel='Type'>"
      ]
     },
     "execution_count": 79,
     "metadata": {},
     "output_type": "execute_result"
    },
    {
     "data": {
      "image/png": "[encoded data removed]",
      "text/plain": [
       "<Figure size 864x360 with 1 Axes>"
      ]
     },
     "metadata": {
      "needs_background": "light"
     },
     "output_type": "display_data"
    }
   ],
   "source": [
    "data.boxplot(column=['defense'], figsize=(12,5), by='Type')"
   ]
  },
  {
   "cell_type": "code",
   "execution_count": 80,
   "id": "ded03791-1fff-4b63-9525-cd8c7c873fbd",
   "metadata": {
    "tags": []
   },
   "outputs": [
    {
     "data": {
      "text/plain": [
       "<AxesSubplot:title={'center':'sp_attack'}, xlabel='Type'>"
      ]
     },
     "execution_count": 80,
     "metadata": {},
     "output_type": "execute_result"
    },
    {
     "data": {
      "image/png": "[encoded data removed]",
      "text/plain": [
       "<Figure size 864x360 with 1 Axes>"
      ]
     },
     "metadata": {
      "needs_background": "light"
     },
     "output_type": "display_data"
    }
   ],
   "source": [
    "data.boxplot(column=['sp_attack'], figsize=(12,5), by='Type')"
   ]
  },
  {
   "cell_type": "code",
   "execution_count": 81,
   "id": "4da2b7f0-0696-4cac-b0cf-624a89565dee",
   "metadata": {
    "tags": []
   },
   "outputs": [
    {
     "data": {
      "text/plain": [
       "<AxesSubplot:title={'center':'sp_defense'}, xlabel='Type'>"
      ]
     },
     "execution_count": 81,
     "metadata": {},
     "output_type": "execute_result"
    },
    {
     "data": {
      "image/png": "[encoded data removed]",
      "text/plain": [
       "<Figure size 864x360 with 1 Axes>"
      ]
     },
     "metadata": {
      "needs_background": "light"
     },
     "output_type": "display_data"
    }
   ],
   "source": [
    "data.boxplot(column=['sp_defense'], figsize=(12,5), by='Type')"
   ]
  },
  {
   "cell_type": "code",
   "execution_count": 82,
   "id": "aed38e6d-6438-41cb-b807-0ab4a8075134",
   "metadata": {
    "tags": []
   },
   "outputs": [
    {
     "data": {
      "text/plain": [
       "<AxesSubplot:title={'center':'speed'}, xlabel='Type'>"
      ]
     },
     "execution_count": 82,
     "metadata": {},
     "output_type": "execute_result"
    },
    {
     "data": {
      "image/png": "[encoded data removed]",
      "text/plain": [
       "<Figure size 864x360 with 1 Axes>"
      ]
     },
     "metadata": {
      "needs_background": "light"
     },
     "output_type": "display_data"
    }
   ],
   "source": [
    "data.boxplot(column=['speed'], figsize=(12,5), by='Type')"
   ]
  },
  {
   "cell_type": "markdown",
   "id": "73417aff-e009-4e27-84c3-ca288d69f8fd",
   "metadata": {
    "tags": []
   },
   "source": [
    "**7. Which Generations have the best Stats?**"
   ]
  },
  {
   "cell_type": "code",
   "execution_count": 83,
   "id": "302dc3e1-b77a-4b98-b353-ecd964b95038",
   "metadata": {
    "tags": []
   },
   "outputs": [
    {
     "data": {
      "text/plain": [
       "<AxesSubplot:title={'center':'Stats by Generation'}, xlabel='generation'>"
      ]
     },
     "execution_count": 83,
     "metadata": {},
     "output_type": "execute_result"
    },
    {
     "data": {
      "image/png": "[encoded data removed]",
      "text/plain": [
       "<Figure size 720x360 with 1 Axes>"
      ]
     },
     "metadata": {
      "needs_background": "light"
     },
     "output_type": "display_data"
    }
   ],
   "source": [
    "# SQL query data for line chart\n",
    "sql_query = 'SELECT generation, AVG(hp) AS HP, AVG(attack) AS Attack, AVG(defense) AS Defense, AVG(sp_attack) AS Sp_Attack, AVG(sp_defense) AS Sp_Defense, AVG(speed) AS Speed FROM poke WHERE is_legendary IS NOT 1 GROUP BY generation'\n",
    "data = pd.read_sql(sql_query, conn)\n",
    "data = data.set_index('generation')\n",
    "\n",
    "data.plot(figsize=(10,5), title='Stats by Generation')"
   ]
  },
  {
   "cell_type": "code",
   "execution_count": 84,
   "id": "143af1b6-8bf1-45fc-bd81-bc1d0474e6cf",
   "metadata": {
    "tags": []
   },
   "outputs": [
    {
     "data": {
      "text/plain": [
       "<AxesSubplot:title={'center':'Total Stats by Generation'}, xlabel='generation'>"
      ]
     },
     "execution_count": 84,
     "metadata": {},
     "output_type": "execute_result"
    },
    {
     "data": {
      "image/png": "[encoded data removed]",
      "text/plain": [
       "<Figure size 720x360 with 1 Axes>"
      ]
     },
     "metadata": {
      "needs_background": "light"
     },
     "output_type": "display_data"
    }
   ],
   "source": [
    "# SQL query data for line chart\n",
    "sql_query = 'SELECT generation, AVG(base_total) AS Total_Stats FROM poke WHERE is_legendary IS NOT 1 GROUP BY generation'\n",
    "data = pd.read_sql(sql_query, conn)\n",
    "data = data.set_index('generation')\n",
    "\n",
    "data.plot(figsize=(10,5), title='Total Stats by Generation')"
   ]
  },
  {
   "cell_type": "markdown",
   "id": "0bb68df2-cb98-45fc-969f-193cfbca8a1f",
   "metadata": {
    "tags": []
   },
   "source": [
    "**8. Which Generation has the strongest Legendaries?**\n"
   ]
  },
  {
   "cell_type": "code",
   "execution_count": 85,
   "id": "d9607c7f-1878-4d0c-a213-722ee03408ca",
   "metadata": {
    "tags": []
   },
   "outputs": [
    {
     "data": {
      "text/plain": [
       "<AxesSubplot:title={'center':'Stats of Legendaries by Generation'}, xlabel='generation'>"
      ]
     },
     "execution_count": 85,
     "metadata": {},
     "output_type": "execute_result"
    },
    {
     "data": {
      "image/png": "[encoded data removed]",
      "text/plain": [
       "<Figure size 720x360 with 1 Axes>"
      ]
     },
     "metadata": {
      "needs_background": "light"
     },
     "output_type": "display_data"
    }
   ],
   "source": [
    "# SQL query data for line chart\n",
    "sql_query = 'SELECT generation, AVG(hp) AS HP, AVG(attack) AS Attack, AVG(defense) AS Defense, AVG(sp_attack) AS Sp_Attack, AVG(sp_defense) AS Sp_Defense, AVG(speed) AS Speed FROM poke WHERE is_legendary IS 1 GROUP BY generation'\n",
    "data = pd.read_sql(sql_query, conn)\n",
    "data = data.set_index('generation')\n",
    "\n",
    "data.plot(figsize=(10,5), title='Stats of Legendaries by Generation')"
   ]
  },
  {
   "cell_type": "markdown",
   "id": "16766ee7-6435-4d91-be26-945f5bda1253",
   "metadata": {},
   "source": [
    " <br>"
   ]
  },
  {
   "cell_type": "code",
   "execution_count": 88,
   "id": "ecdf37eb-db88-4c52-82ce-d2f6765a4b59",
   "metadata": {
    "tags": []
   },
   "outputs": [
    {
     "data": {
      "text/plain": [
       "<AxesSubplot:title={'center':'Total Stats of Legendaries by Generation'}, xlabel='generation'>"
      ]
     },
     "execution_count": 88,
     "metadata": {},
     "output_type": "execute_result"
    },
    {
     "data": {
      "image/png": "[encoded data removed]",
      "text/plain": [
       "<Figure size 720x360 with 1 Axes>"
      ]
     },
     "metadata": {
      "needs_background": "light"
     },
     "output_type": "display_data"
    }
   ],
   "source": [
    "sql_query = 'SELECT generation, AVG(base_total) AS Total_Stats FROM poke WHERE is_legendary IS 1 GROUP BY generation'\n",
    "data = pd.read_sql(sql_query, conn)\n",
    "data = data.set_index('generation')\n",
    "\n",
    "data.plot(figsize=(10,5), title='Total Stats of Legendaries by Generation')"
   ]
  },
  {
   "cell_type": "markdown",
   "id": "0f33cace-c3e7-44a8-8b21-77b5ac8d4ed7",
   "metadata": {
    "tags": []
   },
   "source": [
    "### Matchups Between Types"
   ]
  },
  {
   "cell_type": "markdown",
   "id": "764b6919-2ee2-4279-b3a6-db08fb7f7c27",
   "metadata": {},
   "source": [
    "**9. Which Types performs the best Against others**"
   ]
  },
  {
   "cell_type": "code",
   "execution_count": 89,
   "id": "6b50d086-4fa6-49ca-ab73-22cd6b004919",
   "metadata": {
    "tags": []
   },
   "outputs": [
    {
     "data": {
      "text/plain": [
       "<AxesSubplot:title={'center':'Type Effectiveness Against Others'}, ylabel='Effectiveness'>"
      ]
     },
     "execution_count": 89,
     "metadata": {},
     "output_type": "execute_result"
    },
    {
     "data": {
      "image/png": "[encoded data removed]",
      "text/plain": [
       "<Figure size 720x360 with 1 Axes>"
      ]
     },
     "metadata": {
      "needs_background": "light"
     },
     "output_type": "display_data"
    }
   ],
   "source": [
    "# getting averages for all against_'types' columns\n",
    "data = pokemon.iloc[:,20:].mean()\n",
    "data.plot(kind='bar', figsize=(10,5), title='Type Effectiveness Against Others', ylabel='Effectiveness')"
   ]
  },
  {
   "cell_type": "markdown",
   "id": "5906b86d-c2b0-4b40-a06c-1341d9011d24",
   "metadata": {
    "tags": []
   },
   "source": [
    "---"
   ]
  },
  {
   "cell_type": "markdown",
   "id": "f471fcfb-4bbc-4bd8-a4a4-8a12eee8f4fb",
   "metadata": {
    "tags": []
   },
   "source": [
    "## **Conclusion**"
   ]
  },
  {
   "cell_type": "markdown",
   "id": "db53de4f-5b92-488a-97f5-de45d3e8585c",
   "metadata": {},
   "source": [
    "### Types that Appeared the Most\n",
    "**Water** **,Normal**, **Grass** and **Bug** seem to be the primary types that appear the most. <br>\n",
    "**Flying**, **Poison** and **Ground** seem to be the secondary types that appear the least (ESPECIALLY Flying).<br>\n",
    "**Flying** was the most appearing secondary type by far and **Normal** was the least appearing secondary type."
   ]
  },
  {
   "cell_type": "markdown",
   "id": "d6940848-4ce5-44ab-9a14-8bd69b3cd5f2",
   "metadata": {},
   "source": [
    " <br>"
   ]
  },
  {
   "cell_type": "markdown",
   "id": "9a61c922-3454-49cf-a5f7-f27d37170728",
   "metadata": {
    "tags": []
   },
   "source": [
    "### Weight and Height were not as Important to Total Stats as I'd Hoped\n",
    "The data on weight and total stats did not have a strong correlation of 0.458. The correlation between height and total stats was a bit stronger at 0.535 but it was fair to say that height and weight are not truly reliable data in order to attempt the total stats of a pokemon. "
   ]
  },
  {
   "cell_type": "markdown",
   "id": "9b9ea334-b68c-412d-9371-d73083c37f23",
   "metadata": {},
   "source": [
    " <br>"
   ]
  },
  {
   "cell_type": "markdown",
   "id": "e865f8c8-83f2-4c1b-aaf9-c3278883efca",
   "metadata": {
    "tags": []
   },
   "source": [
    "### Capture Rate is strongly correlated with Total Stats!\n",
    "Althought weight and height were a bit of a let down with their correlations, the Capture wasn't as it had a correlation with total stats of -0.709. It seems that the better stats a pokemon has the harder they are to catch which does make sense."
   ]
  },
  {
   "cell_type": "markdown",
   "id": "72275480-7160-4ee7-8f1b-32c605258e1b",
   "metadata": {},
   "source": [
    " <br>"
   ]
  },
  {
   "cell_type": "markdown",
   "id": "0a1c2c1c-d344-46a4-a072-5ac9944f29e2",
   "metadata": {
    "tags": []
   },
   "source": [
    "### The Types with the Best Stats\n",
    "|Statistic|Highest|Lowest|\n",
    "|---|---|---|\n",
    "|**Total Stats**|Steel, Fighting|Bug, Flying|\n",
    "|**HP**|Fairy, Ice|Ghost, Bug|\n",
    "|**Attack**|Fighting, Dragon|Psychic, Flying|\n",
    "|**Defense**|Steel, Rock|Psychic, Electricity|\n",
    "|**Special Attack**|Psychic, Fire|Fighting, Ground|\n",
    "|**Special Defense**|Steel, Ghost|Bug, Ground|\n",
    "|**Speed**|Flying, Electric|Fairy, Steel|\n",
    "\n",
    "**Things that Made Sense:**\n",
    "<br>Fighitng and Dragon having the highest attack.\n",
    "<br>Steel and Rock having the highest defense.\n",
    "<br>Psychic and Fire having the highest special attack (non-physical).\n",
    "<br>Flying and Electric having the highest speed.\n",
    "<br>Fighting and Ground having the lowest special attack\n",
    "<br>Bug and Ground having the lowest special defense\n",
    "\n",
    "**Things that Surprised me:**\n",
    "<br>Fairy and Ice with the highest Hit Points, I'd assume that they'd be easier to defeat due to their type's nature.\n",
    "<br>Ground having one of the lowest special defense.\n",
    "<br>Fairy being the slowest type, I'd assume that they'd be faster!\n",
    "\n",
    "**Also, some types appeared 3 times (ex. steel, fighting, flying) while some types did not appear at all (water, grass, dark etc.)!**"
   ]
  },
  {
   "cell_type": "markdown",
   "id": "0d30258d-5dcb-4cf4-a85c-007423d12991",
   "metadata": {},
   "source": [
    " <br>"
   ]
  },
  {
   "cell_type": "markdown",
   "id": "3f162676-6236-47b9-9979-a2667d140c0e",
   "metadata": {
    "tags": []
   },
   "source": [
    "### Best Generations!\n",
    "##### Non-Legendaries\n",
    "|Statistic|Highest|Lowest|\n",
    "|---|---|---|\n",
    "|**Total Stats**|Gen 4|Gen 2|\n",
    "|**HP**|Gen 4|Gen 1|\n",
    "|**Attack**|Gen 7|Gen 2|\n",
    "|**Defense**|Gen 7|Gen 3|\n",
    "|**Special Attack**|Gen 6|Gen 2|\n",
    "|**Special Defense**|Gen 7|Gen 3|\n",
    "|**Speed**|Gen 1|Gen 7|\n",
    "\n",
    "I loved that Gen 4 came out on top in terms of Total Stats (and even HP) because that's the Gen that introduced me to pokemon and why I fell in love with it. It is currently and has always been my favorite so I'm glad the statistics justifies my choice as well.\n",
    "<br>\n",
    "However, it is interesting that Gen 7 appears the highest for 3 stats while Gen 4 only appears 1 stat (excluding Total Stats) and it still beats Gen 7 in regards to Total Stats.\n",
    "<br><br>\n",
    "##### Legendaries\n",
    "In terms of legendaries only, the visualizations of Total Stats seems to be pretty consistent with the individual stats. Gen 6 and 3 legendaries seem to be best for most statistics."
   ]
  },
  {
   "cell_type": "markdown",
   "id": "552f9398-02de-405c-b18d-40ae6fa374f4",
   "metadata": {},
   "source": [
    " <br>"
   ]
  },
  {
   "cell_type": "markdown",
   "id": "c2249059-619e-4f01-98e1-2a26ce081c34",
   "metadata": {
    "tags": []
   },
   "source": [
    "### Most Effective Types...\n",
    "Using the against_*type* data, I found out what type will most likely be most effective against all the pokemon in the dataset. The winners for most effective was Rock with Ice coming in second. The least effective type was Normal with Dragon coming in second.<br>\n",
    "I was sad my favorite types like dragon, fire, and electricity were on the top and to make things worse Dragon was the second least effective! I was happy seeing normal being the most least effective because I've always hated how boring that type was."
   ]
  },
  {
   "cell_type": "markdown",
   "id": "bfe2ea61-edd7-4599-bc71-54d9295674d8",
   "metadata": {
    "tags": []
   },
   "source": [
    "---"
   ]
  }
 ],
 "metadata": {
  "kernelspec": {
   "display_name": "Python 3 (ipykernel)",
   "language": "python",
   "name": "python3"
  },
  "language_info": {
   "codemirror_mode": {
    "name": "ipython",
    "version": 3
   },
   "file_extension": ".py",
   "mimetype": "text/x-python",
   "name": "python",
   "nbconvert_exporter": "python",
   "pygments_lexer": "ipython3",
   "version": "3.9.12"
  }
 },
 "nbformat": 4,
 "nbformat_minor": 5
}
